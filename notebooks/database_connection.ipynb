{
 "cells": [
  {
   "cell_type": "code",
   "execution_count": 1,
   "metadata": {},
   "outputs": [],
   "source": [
    "import mysql.connector\n",
    "from mysql.connector import Error\n",
    "\n"
   ]
  },
  {
   "cell_type": "code",
   "execution_count": 3,
   "metadata": {},
   "outputs": [
    {
     "name": "stdout",
     "output_type": "stream",
     "text": [
      "connected 8.0.22\n",
      "your connected to the database: [('empdatabase',), ('employee',), ('information_schema',), ('mysql',), ('performance_schema',), ('sakila',), ('sys',), ('world',)]\n"
     ]
    },
    {
     "ename": "NameError",
     "evalue": "name 'login' is not defined",
     "output_type": "error",
     "traceback": [
      "\u001b[1;31m---------------------------------------------------------------------------\u001b[0m",
      "\u001b[1;31mNameError\u001b[0m                                 Traceback (most recent call last)",
      "\u001b[1;32m<ipython-input-3-7ef998708a52>\u001b[0m in \u001b[0;36m<module>\u001b[1;34m\u001b[0m\n\u001b[0;32m     11\u001b[0m         \u001b[0mdetails\u001b[0m\u001b[1;33m=\u001b[0m\u001b[1;33m[\u001b[0m\u001b[1;33m(\u001b[0m\u001b[1;36m106\u001b[0m\u001b[1;33m,\u001b[0m\u001b[1;34m'killer@123'\u001b[0m\u001b[1;33m)\u001b[0m\u001b[1;33m,\u001b[0m\u001b[1;33m(\u001b[0m\u001b[1;36m107\u001b[0m\u001b[1;33m,\u001b[0m\u001b[1;34m'killer@**25'\u001b[0m\u001b[1;33m)\u001b[0m\u001b[1;33m]\u001b[0m\u001b[1;33m\u001b[0m\u001b[1;33m\u001b[0m\u001b[0m\n\u001b[0;32m     12\u001b[0m         \u001b[0mcursor\u001b[0m\u001b[1;33m.\u001b[0m\u001b[0mexecutemany\u001b[0m\u001b[1;33m(\u001b[0m\u001b[0mvar\u001b[0m\u001b[1;33m,\u001b[0m\u001b[0mdetails\u001b[0m\u001b[1;33m)\u001b[0m\u001b[1;33m\u001b[0m\u001b[1;33m\u001b[0m\u001b[0m\n\u001b[1;32m---> 13\u001b[1;33m         \u001b[0mlogin\u001b[0m\u001b[1;33m.\u001b[0m\u001b[0mcommit\u001b[0m\u001b[1;33m(\u001b[0m\u001b[1;33m)\u001b[0m\u001b[1;33m\u001b[0m\u001b[1;33m\u001b[0m\u001b[0m\n\u001b[0m\u001b[0;32m     14\u001b[0m \u001b[1;32mexcept\u001b[0m \u001b[0mError\u001b[0m \u001b[1;32mas\u001b[0m \u001b[0me\u001b[0m\u001b[1;33m:\u001b[0m\u001b[1;33m\u001b[0m\u001b[1;33m\u001b[0m\u001b[0m\n\u001b[0;32m     15\u001b[0m         \u001b[0mprint\u001b[0m\u001b[1;33m(\u001b[0m\u001b[1;34m\"error \"\u001b[0m\u001b[1;33m,\u001b[0m\u001b[0me\u001b[0m\u001b[1;33m)\u001b[0m\u001b[1;33m\u001b[0m\u001b[1;33m\u001b[0m\u001b[0m\n",
      "\u001b[1;31mNameError\u001b[0m: name 'login' is not defined"
     ]
    }
   ],
   "source": [
    "try:\n",
    "    connection=mysql.connector.connect(host=\"localhost\",database=\"employee\",user=\"root\",password=\"YNyn**25\")\n",
    "    if connection.is_connected():\n",
    "        employee=connection.get_server_info()\n",
    "        print(\"connected\",employee)\n",
    "        cursor=connection.cursor()\n",
    "        cursor.execute(\"show databases\")\n",
    "        record=cursor.fetchall()\n",
    "        print('your connected to the database:',record)\n",
    "        var=\"insert into login(user_id,password) values(%s,%s)\"\n",
    "        details=[(106,'killer@123'),(107,'killer@**25')]\n",
    "        cursor.executemany(var,details)\n",
    "        login.commit()\n",
    "except Error as e:\n",
    "        print(\"error \",e)\n",
    "finally:\n",
    "        if(connection.is_connected()):\n",
    "            cursor.close()\n",
    "            connection.close()\n"
   ]
  },
  {
   "cell_type": "code",
   "execution_count": 21,
   "metadata": {},
   "outputs": [
    {
     "name": "stdout",
     "output_type": "stream",
     "text": [
      "enter userid:110\n",
      "enter password:kfoifjwe;\n",
      "data is saved\n"
     ]
    }
   ],
   "source": [
    "# insert data in database\n",
    "userid=int(input(\"enter userid:\"))\n",
    "password=input(\"enter password:\")\n",
    "connection=mysql.connector.connect(host=\"localhost\",database=\"employee\",user=\"root\",password=\"YNyn**25\")\n",
    "mycursor=connection.cursor()\n",
    "sql=\"insert into login(user_id,password)values(%s,%s)\"\n",
    "val=(userid,password)\n",
    "mycursor.execute(sql,val)\n",
    "connection.commit()\n",
    "print('data is saved')\n",
    "mycursor.close()\n",
    "connection.close()\n",
    "    "
   ]
  },
  {
   "cell_type": "code",
   "execution_count": 63,
   "metadata": {},
   "outputs": [
    {
     "name": "stdout",
     "output_type": "stream",
     "text": [
      "enter userid:102\n",
      "enter password:killer@123\n",
      "(102, 'killer@123')\n",
      "login the screen\n"
     ]
    }
   ],
   "source": [
    "#retrive data from the database\n",
    "\n",
    "connection=mysql.connector.connect(host=\"localhost\",user=\"root\",database=\"employee\",password=\"YNyn**25\")\n",
    "mycursor=connection.cursor()\n",
    "userid=int(input(\"enter userid:\"))\n",
    "password=input(\"enter password:\")\n",
    "sql=\"select user_id,password from login where user_id=%s and password=%s\"\n",
    "mycursor.execute(sql,(userid,password))\n",
    "result1=mycursor.fetchone()\n",
    "print(result1)\n",
    "#print(result[0])\n",
    "#if(result[0]=='password'):\n",
    "    #print(\"your details is wrong\")\n",
    "if((result1[0]==userid) and (result1[1]==password)):\n",
    "    print(\"login the screen\")\n",
    "else:\n",
    "    print(\"your details are wrong\")\n",
    "\n",
    "mycursor.close()\n",
    "connection.close()\n"
   ]
  },
  {
   "cell_type": "code",
   "execution_count": 64,
   "metadata": {},
   "outputs": [
    {
     "name": "stdout",
     "output_type": "stream",
     "text": [
      "enter userid:123\n",
      "enter password:kfpfk\n",
      "None\n"
     ]
    },
    {
     "ename": "TypeError",
     "evalue": "'NoneType' object is not subscriptable",
     "output_type": "error",
     "traceback": [
      "\u001b[1;31m---------------------------------------------------------------------------\u001b[0m",
      "\u001b[1;31mTypeError\u001b[0m                                 Traceback (most recent call last)",
      "\u001b[1;32m<ipython-input-64-99bb7debb024>\u001b[0m in \u001b[0;36m<module>\u001b[1;34m\u001b[0m\n\u001b[0;32m     12\u001b[0m \u001b[1;31m#if(result[0]=='password'):\u001b[0m\u001b[1;33m\u001b[0m\u001b[1;33m\u001b[0m\u001b[1;33m\u001b[0m\u001b[0m\n\u001b[0;32m     13\u001b[0m     \u001b[1;31m#print(\"your details is wrong\")\u001b[0m\u001b[1;33m\u001b[0m\u001b[1;33m\u001b[0m\u001b[1;33m\u001b[0m\u001b[0m\n\u001b[1;32m---> 14\u001b[1;33m \u001b[1;32mif\u001b[0m\u001b[1;33m(\u001b[0m\u001b[1;33m(\u001b[0m\u001b[0mresult1\u001b[0m\u001b[1;33m[\u001b[0m\u001b[1;36m0\u001b[0m\u001b[1;33m]\u001b[0m\u001b[1;33m==\u001b[0m\u001b[0muserid\u001b[0m\u001b[1;33m)\u001b[0m \u001b[1;32mand\u001b[0m \u001b[1;33m(\u001b[0m\u001b[0mresult1\u001b[0m\u001b[1;33m[\u001b[0m\u001b[1;36m1\u001b[0m\u001b[1;33m]\u001b[0m\u001b[1;33m==\u001b[0m\u001b[0mpassword\u001b[0m\u001b[1;33m)\u001b[0m\u001b[1;33m)\u001b[0m\u001b[1;33m:\u001b[0m\u001b[1;33m\u001b[0m\u001b[1;33m\u001b[0m\u001b[0m\n\u001b[0m\u001b[0;32m     15\u001b[0m     \u001b[0mprint\u001b[0m\u001b[1;33m(\u001b[0m\u001b[1;34m\"login the screen\"\u001b[0m\u001b[1;33m)\u001b[0m\u001b[1;33m\u001b[0m\u001b[1;33m\u001b[0m\u001b[0m\n\u001b[0;32m     16\u001b[0m \u001b[1;32melse\u001b[0m\u001b[1;33m:\u001b[0m\u001b[1;33m\u001b[0m\u001b[1;33m\u001b[0m\u001b[0m\n",
      "\u001b[1;31mTypeError\u001b[0m: 'NoneType' object is not subscriptable"
     ]
    }
   ],
   "source": [
    "#retrive data from the database\n",
    "\n",
    "connection=mysql.connector.connect(host=\"localhost\",user=\"root\",database=\"employee\",password=\"YNyn**25\")\n",
    "mycursor=connection.cursor()\n",
    "userid=int(input(\"enter userid:\"))\n",
    "password=input(\"enter password:\")\n",
    "sql=\"select user_id,password from login where user_id=%s and password=%s\"\n",
    "mycursor.execute(sql,(userid,password))\n",
    "result1=mycursor.fetchone()\n",
    "print(result1)\n",
    "#print(result[0])\n",
    "#if(result[0]=='password'):\n",
    "    #print(\"your details is wrong\")\n",
    "if((result1[0]==userid) and (result1[1]==password)):\n",
    "    print(\"login the screen\")\n",
    "else:\n",
    "    print(\"your details are wrong\")\n",
    "\n",
    "mycursor.close()\n",
    "connection.close()\n"
   ]
  },
  {
   "cell_type": "code",
   "execution_count": null,
   "metadata": {},
   "outputs": [],
   "source": []
  },
  {
   "cell_type": "code",
   "execution_count": null,
   "metadata": {},
   "outputs": [],
   "source": []
  },
  {
   "cell_type": "code",
   "execution_count": null,
   "metadata": {},
   "outputs": [],
   "source": []
  },
  {
   "cell_type": "code",
   "execution_count": null,
   "metadata": {},
   "outputs": [],
   "source": []
  },
  {
   "cell_type": "code",
   "execution_count": null,
   "metadata": {},
   "outputs": [],
   "source": []
  },
  {
   "cell_type": "code",
   "execution_count": null,
   "metadata": {},
   "outputs": [],
   "source": []
  }
 ],
 "metadata": {
  "kernelspec": {
   "display_name": "Python 3",
   "language": "python",
   "name": "python3"
  },
  "language_info": {
   "codemirror_mode": {
    "name": "ipython",
    "version": 3
   },
   "file_extension": ".py",
   "mimetype": "text/x-python",
   "name": "python",
   "nbconvert_exporter": "python",
   "pygments_lexer": "ipython3",
   "version": "3.8.5"
  }
 },
 "nbformat": 4,
 "nbformat_minor": 4
}
