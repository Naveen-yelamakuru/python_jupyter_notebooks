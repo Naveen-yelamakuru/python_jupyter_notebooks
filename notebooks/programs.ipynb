{
 "cells": [
  {
   "cell_type": "code",
   "execution_count": null,
   "metadata": {},
   "outputs": [],
   "source": [
    "# fibonacci series\n",
    "def fibo(number):\n",
    "    n1,n2=0,1\n",
    "    count=0\n",
    "    if(number<=0):\n",
    "        return \" enter valid number\"\n",
    "    elif(number==1):\n",
    "        return n1\n",
    "    else:\n",
    "        while(count<number):\n",
    "            print(n1)\n",
    "            nth=n1+n2\n",
    "            n1=n2\n",
    "            n2=nth\n",
    "            count=count+1\n",
    "number=int(input(\"enter a number:\"))\n",
    "fibo(number)"
   ]
  },
  {
   "cell_type": "code",
   "execution_count": null,
   "metadata": {},
   "outputs": [],
   "source": [
    "# factorial of giveen number\n",
    "def fact(number):\n",
    "    if(number<=0):\n",
    "        print(\"enter a valid number:\")\n",
    "    else:\n",
    "        result=number*cal(number-1)\n",
    "        print(result)\n",
    "def cal(value):\n",
    "    result=1\n",
    "    while(value>0):\n",
    "        result=result*value\n",
    "        value=value-1\n",
    "    return result\n",
    "number=int(input('enter a number:'))  \n",
    "fact(number) "
   ]
  },
  {
   "cell_type": "code",
   "execution_count": null,
   "metadata": {},
   "outputs": [],
   "source": [
    "# program for find area of circle\n",
    "def area(radius):\n",
    "    result=3.14*radius*radius\n",
    "    print(\"area of circle is {} \".format(result))\n",
    "radius=int(input(\"enter radius of circle\"))\n",
    "area(radius)"
   ]
  },
  {
   "cell_type": "code",
   "execution_count": null,
   "metadata": {},
   "outputs": [],
   "source": [
    "# program for leap year\n",
    "def leap(year):\n",
    "    if(year%100==0):\n",
    "        if(year%400==0):\n",
    "            print(\"{} is a leap year\".format(year))\n",
    "        else: \n",
    "         print(\"{} is not a leap year\".format(year))\n",
    "    elif(year%4==0):\n",
    "        print(\"{} is a leap year\".format(year))\n",
    "    else: \n",
    "         print(\"{} is not a leap year\".format(year))    \n",
    "year=int(input(\"enter a year:\"))\n",
    "leap(year)"
   ]
  },
  {
   "cell_type": "code",
   "execution_count": 2,
   "metadata": {},
   "outputs": [
    {
     "name": "stdout",
     "output_type": "stream",
     "text": [
      "enter first number:3\n",
      "enter second number:4\n",
      "gcd of 3,4 is 12\n"
     ]
    }
   ],
   "source": [
    "# gcd of two numbers\n",
    "def gcd(number1,number2):\n",
    "    result=number1 if number1>number2 else number2\n",
    "    count=result\n",
    "    while(count>0):\n",
    "        if((count%number1==0) and (count%number2==0)):\n",
    "            print(\"gcd of {},{} is {}\".format(number1,number2,count))\n",
    "            break\n",
    "        else:\n",
    "            count=count+1   \n",
    "number1=int(input(\"enter first number:\"))\n",
    "number2=int(input(\"enter second number:\"))\n",
    "gcd(number1,number2)"
   ]
  },
  {
   "cell_type": "code",
   "execution_count": 8,
   "metadata": {},
   "outputs": [
    {
     "name": "stdout",
     "output_type": "stream",
     "text": [
      "enter a number:7\n",
      "7 is a prime number\n"
     ]
    }
   ],
   "source": [
    "# check weather given number is prime or not\n",
    "def prime(number):\n",
    "    if(number<=1):\n",
    "        print(\"enter a valid number:\")\n",
    "    else:\n",
    "        result=0\n",
    "        count=2\n",
    "        while(count<=number):\n",
    "            if(number%count==0):\n",
    "                result=result+1\n",
    "                count=count+1\n",
    "            else:\n",
    "                count=count+1\n",
    "        if(result>=2):\n",
    "            print(\"{} is not a prime number\".format(number))\n",
    "        else:\n",
    "            print(\"{} is a prime number\".format(number))\n",
    "number=int(input(\"enter a number:\"))\n",
    "prime(number)"
   ]
  },
  {
   "cell_type": "code",
   "execution_count": 13,
   "metadata": {
    "collapsed": true
   },
   "outputs": [
    {
     "name": "stdout",
     "output_type": "stream",
     "text": [
      "enter a range value:30\n",
      "2\n",
      "3\n",
      "5\n",
      "7\n",
      "11\n",
      "13\n",
      "17\n",
      "19\n",
      "23\n",
      "29\n"
     ]
    }
   ],
   "source": [
    "# print all prime numbers with in a range\n",
    "def allprimes(number):\n",
    "    if(number<=1):\n",
    "        print(\"prime numbers are not possible {} in this range\".format(number))\n",
    "    else:\n",
    "        for value in range(2,number):\n",
    "            result,count=0,2\n",
    "            while(count<=value):\n",
    "                if(value%count==0):\n",
    "                    result=result+1\n",
    "                    count=count+1\n",
    "                else:\n",
    "                    count=count+1\n",
    "            if(result<2):\n",
    "                print(value)\n",
    "number=int(input(\"enter a range value:\"))\n",
    "allprimes(number)\n",
    "            \n",
    "            \n",
    "            \n",
    "            \n",
    "            \n",
    "            "
   ]
  },
  {
   "cell_type": "code",
   "execution_count": 5,
   "metadata": {},
   "outputs": [
    {
     "name": "stdout",
     "output_type": "stream",
     "text": [
      "enter a number:145\n",
      "120\n",
      "24\n",
      "25\n"
     ]
    }
   ],
   "source": [
    "#check whether given number is strong number or not\n",
    "#strong number means whose sum of all digist's factorial is equal to the number n(given number)\n",
    "# example 145=1!+4!+5!=1+24+120=145 it is strong number.\n",
    "def strong(number):\n",
    "    \n",
    "    while(number>=1):\n",
    "        rem=number%10\n",
    "        if(rem>1):\n",
    "            result=0\n",
    "            result=result+rem*fact(rem-1)\n",
    "           \n",
    "        else:\n",
    "            result=result+1\n",
    "        print(result)   \n",
    "        number=number//10  \n",
    "         \n",
    "def fact(value):\n",
    "    cal=1\n",
    "    while(value>0):\n",
    "        cal=cal*value\n",
    "        value=value-1\n",
    "    return cal         \n",
    "number=int(input(\"enter a number:\"))\n",
    "strong(number)"
   ]
  },
  {
   "cell_type": "code",
   "execution_count": null,
   "metadata": {},
   "outputs": [],
   "source": [
    "# display calendar\n",
    "import calendar as cal\n",
    "year=int(input(\"enter year:\"))\n",
    "month=int(input(\"enter month:\"))\n",
    "print(cal.month(year,month))"
   ]
  },
  {
   "cell_type": "code",
   "execution_count": null,
   "metadata": {},
   "outputs": [],
   "source": [
    "def sorting(lis):\n",
    "    result=[]\n",
    "    for word in lis:\n",
    "        result=lis.sort()\n",
    "        print(result)\n",
    "count=0\n",
    "lis=[]\n",
    "number=int(input(\" how many number of words you want sort:\"))\n",
    "while(count<=number):\n",
    "    words=input('enter word:')\n",
    "    lis.append(words)\n",
    "    count=count+1\n",
    "sorting(lis)"
   ]
  },
  {
   "cell_type": "code",
   "execution_count": 8,
   "metadata": {
    "collapsed": true
   },
   "outputs": [
    {
     "data": {
      "text/plain": [
       "['__add__',\n",
       " '__class__',\n",
       " '__contains__',\n",
       " '__delattr__',\n",
       " '__delitem__',\n",
       " '__dir__',\n",
       " '__doc__',\n",
       " '__eq__',\n",
       " '__format__',\n",
       " '__ge__',\n",
       " '__getattribute__',\n",
       " '__getitem__',\n",
       " '__gt__',\n",
       " '__hash__',\n",
       " '__iadd__',\n",
       " '__imul__',\n",
       " '__init__',\n",
       " '__init_subclass__',\n",
       " '__iter__',\n",
       " '__le__',\n",
       " '__len__',\n",
       " '__lt__',\n",
       " '__mul__',\n",
       " '__ne__',\n",
       " '__new__',\n",
       " '__reduce__',\n",
       " '__reduce_ex__',\n",
       " '__repr__',\n",
       " '__reversed__',\n",
       " '__rmul__',\n",
       " '__setattr__',\n",
       " '__setitem__',\n",
       " '__sizeof__',\n",
       " '__str__',\n",
       " '__subclasshook__',\n",
       " 'append',\n",
       " 'clear',\n",
       " 'copy',\n",
       " 'count',\n",
       " 'extend',\n",
       " 'index',\n",
       " 'insert',\n",
       " 'pop',\n",
       " 'remove',\n",
       " 'reverse',\n",
       " 'sort']"
      ]
     },
     "execution_count": 8,
     "metadata": {},
     "output_type": "execute_result"
    }
   ],
   "source": [
    "dir(list)"
   ]
  },
  {
   "cell_type": "code",
   "execution_count": 13,
   "metadata": {},
   "outputs": [
    {
     "data": {
      "text/plain": [
       "2.70805020110221"
      ]
     },
     "execution_count": 13,
     "metadata": {},
     "output_type": "execute_result"
    }
   ],
   "source": [
    "# logerthmic functions\n",
    "import math\n",
    "math.log(14)\n",
    "math.log(14,10)# 14 is value and 10 base\n",
    "math.log2(14)# 2 means base value\n",
    "math.log10(14)\n",
    "math.log1p(14)# it adds 1 value to 14 and find log(15)\n",
    "math.log2p(14)# this type syntax is not possible"
   ]
  },
  {
   "cell_type": "code",
   "execution_count": 8,
   "metadata": {},
   "outputs": [
    {
     "data": {
      "text/plain": [
       "2.6390573296152584"
      ]
     },
     "execution_count": 8,
     "metadata": {},
     "output_type": "execute_result"
    }
   ],
   "source": [
    "math.log(14)"
   ]
  },
  {
   "cell_type": "code",
   "execution_count": 14,
   "metadata": {},
   "outputs": [
    {
     "data": {
      "text/plain": [
       "2.772588722239781"
      ]
     },
     "execution_count": 14,
     "metadata": {},
     "output_type": "execute_result"
    }
   ],
   "source": [
    "number=2\n",
    "math.log(number+14)"
   ]
  },
  {
   "cell_type": "code",
   "execution_count": 48,
   "metadata": {},
   "outputs": [
    {
     "name": "stdout",
     "output_type": "stream",
     "text": [
      "matrix multiplicat of two matrices\n",
      " [[31 47 62]\n",
      " [38 60 80]\n",
      " [19 30 40]]\n"
     ]
    }
   ],
   "source": [
    "#matrix multiplication program\n",
    "import numpy as np\n",
    "arr1=np.array([[2,3,4],[2,4,6],[1,2,3]])\n",
    "arr2=np.array([[7,8,9],[3,5,8],[2,4,5]])\n",
    "result=np.array([[0,0,0],[0,0,0],[0,0,0]])\n",
    "first=arr1.shape\n",
    "second=arr2.shape\n",
    "if(first[1]==second[0]):\n",
    "    for r in range(len(arr1)):\n",
    "        for c in range(len(arr2[0])):\n",
    "            for n in range(len(arr2)):\n",
    "                result[r][c]=result[r][c]+arr1[r][n]*arr2[n][c]\n",
    "    print('matrix multiplicat of two matrices\\n',result,)\n",
    "else:\n",
    "    print(\"matrix multiplication is not possible\")"
   ]
  },
  {
   "cell_type": "code",
   "execution_count": 27,
   "metadata": {},
   "outputs": [
    {
     "data": {
      "text/plain": [
       "2"
      ]
     },
     "execution_count": 27,
     "metadata": {},
     "output_type": "execute_result"
    }
   ],
   "source": [
    "arr1=np.array([[2,3,4],[2,4,6]])\n",
    "len(arr1)"
   ]
  },
  {
   "cell_type": "code",
   "execution_count": 56,
   "metadata": {},
   "outputs": [
    {
     "name": "stdout",
     "output_type": "stream",
     "text": [
      "[[2, 3], [11, 2, 3]]\n"
     ]
    }
   ],
   "source": [
    "list=[11,2,3]\n",
    "list1=[2,3]\n",
    "list2=[]\n",
    "list2.append(list1)\n",
    "list2.append(list)\n",
    "print(list2)"
   ]
  },
  {
   "cell_type": "code",
   "execution_count": 39,
   "metadata": {},
   "outputs": [
    {
     "data": {
      "text/plain": [
       "array([[1.06134265e-312, 0.00000000e+000, 1.06395697e+224],\n",
       "       [3.37923153e-057, 4.18300597e-062, 7.10488014e-038],\n",
       "       [5.99118568e+174, 3.12007841e-085, 6.27207943e-310]])"
      ]
     },
     "execution_count": 39,
     "metadata": {},
     "output_type": "execute_result"
    }
   ],
   "source": [
    "result=np.empty([3,3])\n",
    "result"
   ]
  },
  {
   "cell_type": "code",
   "execution_count": 58,
   "metadata": {},
   "outputs": [
    {
     "name": "stdout",
     "output_type": "stream",
     "text": [
      "enter no rows:2\n",
      "enter no columns3\n",
      "1\n",
      "2\n",
      "2\n",
      "2\n",
      "2\n",
      "2\n",
      "[[1, 2, 2], [2, 2, 2]]\n"
     ]
    }
   ],
   "source": [
    "# take input form user\n",
    "rows=int(input('enter no rows:'))\n",
    "columns=int(input('enter no columns'))\n",
    "matrix=[[int(input()) for x in range(columns)]for y in range(rows)]\n",
    "print(matrix)\n",
    "\n"
   ]
  },
  {
   "cell_type": "code",
   "execution_count": 10,
   "metadata": {},
   "outputs": [
    {
     "name": "stdout",
     "output_type": "stream",
     "text": [
      "enter a string:hll cm\n",
      "0\n"
     ]
    }
   ],
   "source": [
    "#tcs program form nqt 2020\n",
    "def arrange(str):\n",
    "    new=\"\"\n",
    "    a=0\n",
    "    e=0\n",
    "    i=0\n",
    "    o=0\n",
    "    u=0\n",
    "    for character in str:\n",
    "        if(character=='a'):\n",
    "            a=a+1\n",
    "            \n",
    "        elif(character=='e'):\n",
    "            e=e+1\n",
    "            \n",
    "        elif(character=='i'):\n",
    "            i=i+1\n",
    "            \n",
    "        elif(character=='o'):\n",
    "            o=o+1\n",
    "            \n",
    "        elif(character=='u'):\n",
    "            u=u+1\n",
    "            \n",
    "        else:\n",
    "            new=new+character        \n",
    "    count=a+e+i+o+u\n",
    "    if(count>0):\n",
    "        print('a:',a)\n",
    "        print('e:',e)\n",
    "        print('i:',i)\n",
    "        print('o:',o)\n",
    "        print('u:',u)\n",
    "        print(new)\n",
    "    else:\n",
    "        print('0')\n",
    "str=input(\"enter a string:\")\n",
    "arrange(str)"
   ]
  },
  {
   "cell_type": "code",
   "execution_count": 19,
   "metadata": {},
   "outputs": [
    {
     "name": "stdout",
     "output_type": "stream",
     "text": [
      "   enter number of teams between 2 and 12\n",
      "--------------------------------------------\n",
      "enter team name:naveen\n",
      "enter team name:killer\n",
      "enter team name:sai\n",
      "enter team name:rupesh\n",
      "enter team name:q\n",
      "['naveen', 'killer', 'sai', 'rupesh']\n",
      "**********************\n",
      "  create time table for your teams\n",
      "------------------------------------\n",
      "naveen * killer\n",
      "naveen * sai\n",
      "naveen * rupesh\n",
      "killer * naveen\n",
      "killer * sai\n",
      "killer * rupesh\n",
      "sai * naveen\n",
      "sai * killer\n",
      "sai * rupesh\n",
      "rupesh * naveen\n",
      "rupesh * killer\n",
      "rupesh * sai\n"
     ]
    }
   ],
   "source": [
    "# tcs program from nqt 2020\n",
    "# arrange ipl2020 cricket time table\n",
    "print('   enter number of teams between 2 and 12')\n",
    "print('--------------------------------------------')\n",
    "number=2\n",
    "team=[]\n",
    "count=0\n",
    "while(number<=12):\n",
    "    result=input(\"enter team name:\")\n",
    "    if(result=='q'):\n",
    "        break\n",
    "    else:\n",
    "        team.append(result)\n",
    "        count=count+1\n",
    "print(team)\n",
    "print(\"**********************\")\n",
    "print('  create time table for your teams')\n",
    "print('------------------------------------')\n",
    "for i in team:\n",
    "    for j in team:\n",
    "        if(i==j):\n",
    "            continue\n",
    "        print(i,'*',j)\n",
    "        \n",
    "    \n",
    "    "
   ]
  }
 ],
 "metadata": {
  "kernelspec": {
   "display_name": "Python 3",
   "language": "python",
   "name": "python3"
  },
  "language_info": {
   "codemirror_mode": {
    "name": "ipython",
    "version": 3
   },
   "file_extension": ".py",
   "mimetype": "text/x-python",
   "name": "python",
   "nbconvert_exporter": "python",
   "pygments_lexer": "ipython3",
   "version": "3.8.5"
  }
 },
 "nbformat": 4,
 "nbformat_minor": 4
}
