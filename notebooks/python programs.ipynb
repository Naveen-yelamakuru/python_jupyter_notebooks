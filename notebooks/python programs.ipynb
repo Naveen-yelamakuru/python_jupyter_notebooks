{
 "cells": [
  {
   "cell_type": "markdown",
   "metadata": {},
   "source": [
    "#generate given series 1,2,1,3,2,5,3,7,5,11,8,13.........fibonacci and prime series\n"
   ]
  },
  {
   "cell_type": "code",
   "execution_count": null,
   "metadata": {},
   "outputs": [],
   "source": [
    "def fibo(number):\n",
    "    n1,n2=0,1\n",
    "    count=0\n",
    "    if(number<=0):\n",
    "        return \" enter valid number\"\n",
    "    elif(number==1):\n",
    "        return n1\n",
    "    else:\n",
    "        while(count<number):\n",
    "            print(n1)\n",
    "            nth=n1+n2\n",
    "            n1=n2\n",
    "            n2=nth\n",
    "            count=count+1\n",
    "number=int(input(\"enter a number:\"))\n",
    "fibo(number)\n",
    "            \n",
    "            \n",
    "        \n",
    "    \n",
    "        \n",
    "    "
   ]
  },
  {
   "cell_type": "code",
   "execution_count": null,
   "metadata": {},
   "outputs": [],
   "source": [
    "# factorial of giveen number\n",
    "def fact(number):\n",
    "    if(number<=0):\n",
    "        print(\"enter a valid number:\")\n",
    "    else:\n",
    "        result=number*cal(number-1)\n",
    "        print(result)\n",
    "def cal(value):\n",
    "    result=1\n",
    "    while(value>0):\n",
    "        result=result*value\n",
    "        value=value-1\n",
    "    return result\n",
    "number=int(input('enter a number:'))  \n",
    "fact(number)  "
   ]
  },
  {
   "cell_type": "code",
   "execution_count": null,
   "metadata": {},
   "outputs": [],
   "source": [
    "# program for find area of circle\n",
    "def area(radius):\n",
    "    result=3.14*radius*radius\n",
    "    print(\"area of circle is {} \".format(result))\n",
    "radius=int(input(\"enter radius of circle\"))\n",
    "area(radius)"
   ]
  },
  {
   "cell_type": "code",
   "execution_count": null,
   "metadata": {},
   "outputs": [],
   "source": [
    "# program for leap year\n",
    "def leap(year):\n",
    "    if(year%100==0):\n",
    "        if(year%400==0):\n",
    "            print(\"{} is a leap year\".format(year))\n",
    "        else: \n",
    "         print(\"{} is not a leap year\".format(year))\n",
    "    elif(year%4==0):\n",
    "        print(\"{} is a leap year\".format(year))\n",
    "    else: \n",
    "         print(\"{} is not a leap year\".format(year))    \n",
    "year=int(input(\"enter a year:\"))\n",
    "leap(year)\n",
    "\n",
    "    "
   ]
  },
  {
   "cell_type": "code",
   "execution_count": null,
   "metadata": {},
   "outputs": [],
   "source": [
    "# gcd of two numbers\n",
    "def gcd(number1,number2):\n",
    "    result=number1 if number1>number2 else number2\n",
    "    count=result\n",
    "    while(count>0):\n",
    "        if((count%number1==0) and (count%number2==0)):\n",
    "            print(\"gcd of {},{} is {}\".format(number1,number2,count))\n",
    "            break\n",
    "        else:\n",
    "            count=count+1   \n",
    "number1=int(input(\"enter first number:\"))\n",
    "number2=int(input(\"enter second number:\"))\n",
    "gcd(number1,number2)"
   ]
  },
  {
   "cell_type": "code",
   "execution_count": 5,
   "metadata": {},
   "outputs": [
    {
     "name": "stdout",
     "output_type": "stream",
     "text": [
      "enter a number:141\n",
      "141\n",
      "141 is a palindrome number\n"
     ]
    }
   ],
   "source": [
    "# check whether given number is palindrome or not\n",
    "def palindrome(number):\n",
    "    rev=0\n",
    "    temp=number\n",
    "    while(number>0):\n",
    "        digit=number%10\n",
    "        rev=rev*10+digit\n",
    "        number=number//10\n",
    "    print(rev) \n",
    "    if(temp==rev):\n",
    "        print(\"{} is a palindrome number\".format(temp))\n",
    "    else:\n",
    "        print(\"{} is not a palindrome number\".format(temp))\n",
    "number=int(input(\"enter a number:\"))\n",
    "palindrome(number)"
   ]
  },
  {
   "cell_type": "code",
   "execution_count": 20,
   "metadata": {},
   "outputs": [
    {
     "name": "stdout",
     "output_type": "stream",
     "text": [
      "enter a number:407\n",
      "343\n",
      "343\n",
      "407\n",
      "407 is a armstrong number\n"
     ]
    }
   ],
   "source": [
    "# check whether number is armstrong number or not(only 3 digit numbers then fing power of 3 of each number ) if n numbers then fing power of n of each number\n",
    "# example:153=1cube+5cube+3cube=1+125+27=153 is called armstrong number\n",
    "# 4 digit number example=1634=1**4+6**4+3**4+4**4\n",
    "def armstrong(number):\n",
    "    temp=number\n",
    "    res=0\n",
    "    if(number<=0):\n",
    "        print(\"enter a valid number\")\n",
    "    else:\n",
    "        while(number>0):\n",
    "            digit=number%10\n",
    "            res=res+(digit**3)\n",
    "            print(res)\n",
    "            number=number//10\n",
    "        \n",
    "        if(temp==res):\n",
    "            print('{} is a armstrong number'.format(temp))\n",
    "        else:\n",
    "            print('{} is not a armstrong number'.format(temp))\n",
    "number=int(input(\"enter a number:\"))\n",
    "armstrong(number)\n",
    "            \n",
    "            \n",
    "            \n",
    "            \n",
    "            \n",
    "            \n",
    "            \n",
    "            "
   ]
  },
  {
   "cell_type": "code",
   "execution_count": 33,
   "metadata": {},
   "outputs": [
    {
     "name": "stdout",
     "output_type": "stream",
     "text": [
      "enter starting number:351\n",
      "enter ending number1634\n",
      "370\n",
      "371\n",
      "407\n"
     ]
    }
   ],
   "source": [
    "# display all armstrong numbers between two numbers\n",
    "def armstrong(number1,number2):\n",
    "    for value in range(number1,number2):\n",
    "        temp=value\n",
    "        result=0\n",
    "        digitcount=count(value)\n",
    "        while(value>0):\n",
    "            digit=value%10\n",
    "            result=result+digit**digitcount\n",
    "            value=value//10\n",
    "        if(result==temp):\n",
    "            print(result)\n",
    "\n",
    "def count(value):\n",
    "    counter=0  \n",
    "    while(value>0):\n",
    "        counter=counter+1\n",
    "        value=value//10\n",
    "    return counter\n",
    "        \n",
    "number1=int(input(\"enter starting number:\"))\n",
    "number2=int(input(\"enter ending number\"))\n",
    "armstrong(number1,number2)"
   ]
  },
  {
   "cell_type": "code",
   "execution_count": 36,
   "metadata": {},
   "outputs": [
    {
     "name": "stdout",
     "output_type": "stream",
     "text": [
      "enter a stringanna\n",
      "anna is a palindrome string\n"
     ]
    }
   ],
   "source": [
    "# check whether string is palindrome or not\n",
    "def stringcheck(name):\n",
    "    temp=name\n",
    "    name=name[::-1]\n",
    "    if(name==temp):\n",
    "        print(\"{} is a palindrome string\".format(name))\n",
    "    else:\n",
    "        print(\"{} is not a palindrome string\".format(name))\n",
    "name=input(\"enter a string\")\n",
    "stringcheck(name)"
   ]
  },
  {
   "cell_type": "code",
   "execution_count": 39,
   "metadata": {},
   "outputs": [
    {
     "name": "stdout",
     "output_type": "stream",
     "text": [
      "enter a string:naveen\n",
      "neevan\n"
     ]
    }
   ],
   "source": [
    "# different methods of reverse a string\n",
    "# method 1 using loop\n",
    "def reverse(name):\n",
    "    str=''\n",
    "    for i in name:\n",
    "        str=i+str\n",
    "    return str\n",
    "name=input('enter a string:')\n",
    "#reverse(name)\n",
    "#method 2 using recursion function\n",
    "def recursive(name):\n",
    "    if (len(s)==0):\n",
    "        return s\n",
    "    else:\n",
    "        return recursive(s[1:])+s[0]\n",
    "# method 3 using reversed method\n",
    "def rev(name):\n",
    "    killer=''.join(reversed(name))\n",
    "    print(killer)\n",
    "rev(name)\n",
    "    \n",
    "\n",
    "        \n",
    "\n",
    "    \n",
    "    \n",
    "    \n",
    "    \n",
    "    \n",
    "    \n",
    "    \n",
    "    \n",
    "    "
   ]
  },
  {
   "cell_type": "code",
   "execution_count": 3,
   "metadata": {},
   "outputs": [
    {
     "name": "stdout",
     "output_type": "stream",
     "text": [
      "enter a binary number:10011\n",
      "19\n"
     ]
    }
   ],
   "source": [
    "# binary to decimal conversation\n",
    "def decimal(number):\n",
    "    result,count=0,0\n",
    "    while(number>0):\n",
    "        digit=number%10\n",
    "        result=result+digit*(2**count)\n",
    "        number=number//10\n",
    "        count=count+1\n",
    "    print(result)\n",
    "number=int(input(\"enter a binary number:\"))\n",
    "decimal(number)"
   ]
  },
  {
   "cell_type": "code",
   "execution_count": 17,
   "metadata": {},
   "outputs": [
    {
     "name": "stdout",
     "output_type": "stream",
     "text": [
      "enter a decimal number:108\n",
      "1101100"
     ]
    }
   ],
   "source": [
    "# decimal to binary conversation\n",
    "def binary(number):\n",
    "    if(number>0):\n",
    "        binary(number//2)\n",
    "        print(number%2,end='')\n",
    "number=int(input(\"enter a decimal number:\"))\n",
    "binary(number)"
   ]
  },
  {
   "cell_type": "code",
   "execution_count": 21,
   "metadata": {},
   "outputs": [
    {
     "name": "stdout",
     "output_type": "stream",
     "text": [
      "enter a decimal number:108\n",
      "0b1101100\n"
     ]
    }
   ],
   "source": [
    "# decimal to binary conversation using bin() function\n",
    "def binary(number):\n",
    "    print(bin(number))\n",
    "number=int(input(\"enter a decimal number:\"))\n",
    "binary(number)"
   ]
  },
  {
   "cell_type": "code",
   "execution_count": 31,
   "metadata": {},
   "outputs": [
    {
     "name": "stdout",
     "output_type": "stream",
     "text": [
      "enter a decimal number:108\n",
      "154"
     ]
    }
   ],
   "source": [
    "# decimal to octal conversation\n",
    "def octal(number):\n",
    "    if(number>0):\n",
    "        octal(number//8)\n",
    "        print(number%8,end='')\n",
    "number=int(input(\"enter a decimal number:\"))\n",
    "octal(number)"
   ]
  },
  {
   "cell_type": "code",
   "execution_count": 35,
   "metadata": {},
   "outputs": [
    {
     "name": "stdout",
     "output_type": "stream",
     "text": [
      "enter a decimal number:108\n",
      "154"
     ]
    }
   ],
   "source": [
    "# decimal to octal conversation\n",
    "def octal(number):\n",
    "    if(number>0):\n",
    "        octal(number//8)\n",
    "        print(number%8,end='')\n",
    "number=int(input(\"enter a decimal number:\"))\n",
    "octal(number)"
   ]
  },
  {
   "cell_type": "code",
   "execution_count": 37,
   "metadata": {},
   "outputs": [
    {
     "name": "stdout",
     "output_type": "stream",
     "text": [
      "enter a octal number:154\n",
      "108\n"
     ]
    }
   ],
   "source": [
    "# octal to decimal conversation\n",
    "def decimal(number):\n",
    "    result,count=0,0\n",
    "    while(number>0):\n",
    "        digit=number%10\n",
    "        result=result+digit*(8**count)\n",
    "        number=number//10\n",
    "        count=count+1\n",
    "    print(result)\n",
    "number=int(input(\"enter a octal number:\"))\n",
    "decimal(number)"
   ]
  },
  {
   "cell_type": "code",
   "execution_count": 41,
   "metadata": {},
   "outputs": [
    {
     "name": "stdout",
     "output_type": "stream",
     "text": [
      "enter a binary number:154\n",
      "decimal number 108\n",
      "1101100"
     ]
    }
   ],
   "source": [
    "# octal to binary conversation\n",
    "# octal to decimal conversation\n",
    "\n",
    "def decimal(number):\n",
    "    result,count=0,0\n",
    "    while(number>0):\n",
    "        digit=number%10\n",
    "        result=result+digit*(8**count)\n",
    "        number=number//10\n",
    "        count=count+1\n",
    "    print('decimal number',result)\n",
    "    binary(result)\n",
    "# decimal to binary conversation\n",
    "def binary(result):\n",
    "    if(result>0):\n",
    "        binary(result//2)\n",
    "        print(result%2,end='')\n",
    "number=int(input(\"enter a binary number:\"))\n",
    "decimal(number)\n"
   ]
  },
  {
   "cell_type": "code",
   "execution_count": 52,
   "metadata": {},
   "outputs": [
    {
     "name": "stdout",
     "output_type": "stream",
     "text": [
      "enter starting value:1\n",
      "enter ending value:100\n",
      "2,3,5,7,11,13,17,19,23,29,31,37,41,43,47,53,59,61,67,71,73,79,83,89,97,"
     ]
    }
   ],
   "source": [
    "#sum of all prime numbers with in a range\n",
    "def allprimenumbers(number1,number2):\n",
    "    for value in range(number1,number2):\n",
    "        count=0\n",
    "        divider=2\n",
    "        while(divider<=value):\n",
    "            if(value%divider==0):\n",
    "                count=count+1\n",
    "                divider=divider+1\n",
    "            else:\n",
    "                divider=divider+1\n",
    "        if(count==1):\n",
    "            print(value,end=',')\n",
    "number1=int(input(\"enter starting value:\"))\n",
    "number2=int(input(\"enter ending value:\"))\n",
    "allprimenumbers(number1,number2)"
   ]
  },
  {
   "cell_type": "code",
   "execution_count": 2,
   "metadata": {
    "collapsed": true
   },
   "outputs": [
    {
     "name": "stdout",
     "output_type": "stream",
     "text": [
      "enter number of elements you want sort:5\n",
      "enter word:e\n",
      "enter word:b\n",
      "enter word:a\n",
      "enter word:k\n",
      "enter word:g\n",
      "['e', 'b', 'a', 'k', 'g']\n",
      "['a', 'b', 'e', 'g', 'k']\n"
     ]
    }
   ],
   "source": [
    "# sorting of words\n",
    "def sorting(cars):\n",
    "    print(\"Before sorting\",cars)\n",
    "    cars.sort(reverse=False)\n",
    "    print(\"after sortingS\",cars)\n",
    "def counting(number):\n",
    "    count=0\n",
    "    cars=[]\n",
    "    while(count<number):\n",
    "        words=input('enter word:')\n",
    "        cars.append(words)\n",
    "        count=count+1\n",
    "    sorting(cars)         \n",
    "number=int(input(\"enter number of elements you want sort:\"))\n",
    "counting(number)\n"
   ]
  },
  {
   "cell_type": "code",
   "execution_count": null,
   "metadata": {},
   "outputs": [],
   "source": [
    "# find lcm \n",
    "\n",
    "def lcm(number1,number2):\n",
    "    result=number1 if number1>number2 else number2\n",
    "    while(result):\n",
    "        if((result%number1==0) and (result%number2==0)):\n",
    "            print(result)\n",
    "            break\n",
    "        else:\n",
    "            result=result+1\n",
    "number1=int(input(\"enter first number:\"))\n",
    "number2=int(input(\"enter second number:\"))\n",
    "lcm(number1,number2)\n",
    "    \n",
    "    "
   ]
  },
  {
   "cell_type": "code",
   "execution_count": 21,
   "metadata": {},
   "outputs": [
    {
     "name": "stdout",
     "output_type": "stream",
     "text": [
      "[225, 27]\n",
      "[26, 39]\n"
     ]
    }
   ],
   "source": [
    "# python program for add two matrices\n",
    "first=[[2,3],[4,5]]\n",
    "second=[[223,24],[22,34]]\n",
    "result=[[0,0],[0,0]]\n",
    "for i in range(len(first)):\n",
    "    for j in range(len(first[0])):\n",
    "        result[i][j]=first[i][j]+second[i][j]\n",
    "for r in result:\n",
    "    print(r)\n"
   ]
  },
  {
   "cell_type": "code",
   "execution_count": 26,
   "metadata": {},
   "outputs": [
    {
     "data": {
      "text/plain": [
       "tuple"
      ]
     },
     "execution_count": 26,
     "metadata": {},
     "output_type": "execute_result"
    }
   ],
   "source": [
    "arr=1,2,3,4\n",
    "type(arr)"
   ]
  },
  {
   "cell_type": "code",
   "execution_count": 33,
   "metadata": {},
   "outputs": [],
   "source": [
    "import numpy as np\n",
    "arr=np.ndim(10)"
   ]
  },
  {
   "cell_type": "code",
   "execution_count": 34,
   "metadata": {},
   "outputs": [
    {
     "data": {
      "text/plain": [
       "int"
      ]
     },
     "execution_count": 34,
     "metadata": {},
     "output_type": "execute_result"
    }
   ],
   "source": [
    "type(arr)"
   ]
  },
  {
   "cell_type": "code",
   "execution_count": null,
   "metadata": {},
   "outputs": [],
   "source": []
  },
  {
   "cell_type": "code",
   "execution_count": null,
   "metadata": {},
   "outputs": [],
   "source": []
  },
  {
   "cell_type": "code",
   "execution_count": null,
   "metadata": {},
   "outputs": [],
   "source": []
  },
  {
   "cell_type": "code",
   "execution_count": null,
   "metadata": {},
   "outputs": [],
   "source": []
  },
  {
   "cell_type": "code",
   "execution_count": null,
   "metadata": {},
   "outputs": [],
   "source": []
  },
  {
   "cell_type": "code",
   "execution_count": null,
   "metadata": {},
   "outputs": [],
   "source": []
  },
  {
   "cell_type": "code",
   "execution_count": null,
   "metadata": {},
   "outputs": [],
   "source": []
  },
  {
   "cell_type": "code",
   "execution_count": null,
   "metadata": {},
   "outputs": [],
   "source": []
  },
  {
   "cell_type": "code",
   "execution_count": null,
   "metadata": {},
   "outputs": [],
   "source": []
  }
 ],
 "metadata": {
  "kernelspec": {
   "display_name": "Python 3",
   "language": "python",
   "name": "python3"
  },
  "language_info": {
   "codemirror_mode": {
    "name": "ipython",
    "version": 3
   },
   "file_extension": ".py",
   "mimetype": "text/x-python",
   "name": "python",
   "nbconvert_exporter": "python",
   "pygments_lexer": "ipython3",
   "version": "3.8.5"
  }
 },
 "nbformat": 4,
 "nbformat_minor": 4
}
