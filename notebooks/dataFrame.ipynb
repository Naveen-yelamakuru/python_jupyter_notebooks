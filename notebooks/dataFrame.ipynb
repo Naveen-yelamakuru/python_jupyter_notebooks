{
 "cells": [
  {
   "cell_type": "code",
   "execution_count": 33,
   "metadata": {},
   "outputs": [],
   "source": [
    "import pandas as pd\n",
    "data=pd.read_csv(\"sample.csv\")"
   ]
  },
  {
   "cell_type": "code",
   "execution_count": 2,
   "metadata": {},
   "outputs": [
    {
     "data": {
      "text/html": [
       "<div>\n",
       "<style scoped>\n",
       "    .dataframe tbody tr th:only-of-type {\n",
       "        vertical-align: middle;\n",
       "    }\n",
       "\n",
       "    .dataframe tbody tr th {\n",
       "        vertical-align: top;\n",
       "    }\n",
       "\n",
       "    .dataframe thead th {\n",
       "        text-align: right;\n",
       "    }\n",
       "</style>\n",
       "<table border=\"1\" class=\"dataframe\">\n",
       "  <thead>\n",
       "    <tr style=\"text-align: right;\">\n",
       "      <th></th>\n",
       "      <th>Serial Number</th>\n",
       "      <th>Company Name</th>\n",
       "      <th>Employee Markme</th>\n",
       "      <th>Description</th>\n",
       "      <th>Leave</th>\n",
       "    </tr>\n",
       "  </thead>\n",
       "  <tbody>\n",
       "    <tr>\n",
       "      <th>0</th>\n",
       "      <td>9788189999599</td>\n",
       "      <td>TALES OF SHIVA</td>\n",
       "      <td>Mark</td>\n",
       "      <td>mark</td>\n",
       "      <td>0</td>\n",
       "    </tr>\n",
       "    <tr>\n",
       "      <th>1</th>\n",
       "      <td>9780099578079</td>\n",
       "      <td>1Q84 THE COMPLETE TRILOGY</td>\n",
       "      <td>HARUKI MURAKAMI</td>\n",
       "      <td>Mark</td>\n",
       "      <td>0</td>\n",
       "    </tr>\n",
       "    <tr>\n",
       "      <th>2</th>\n",
       "      <td>9780198082897</td>\n",
       "      <td>MY KUMAN</td>\n",
       "      <td>Mark</td>\n",
       "      <td>Mark</td>\n",
       "      <td>0</td>\n",
       "    </tr>\n",
       "    <tr>\n",
       "      <th>3</th>\n",
       "      <td>9780007880331</td>\n",
       "      <td>THE GOD OF SMAAL THINGS</td>\n",
       "      <td>ARUNDHATI ROY</td>\n",
       "      <td>4TH HARPER COLLINS</td>\n",
       "      <td>2</td>\n",
       "    </tr>\n",
       "    <tr>\n",
       "      <th>4</th>\n",
       "      <td>9780545060455</td>\n",
       "      <td>THE BLACK CIRCLE</td>\n",
       "      <td>Mark</td>\n",
       "      <td>4TH HARPER COLLINS</td>\n",
       "      <td>0</td>\n",
       "    </tr>\n",
       "    <tr>\n",
       "      <th>...</th>\n",
       "      <td>...</td>\n",
       "      <td>...</td>\n",
       "      <td>...</td>\n",
       "      <td>...</td>\n",
       "      <td>...</td>\n",
       "    </tr>\n",
       "    <tr>\n",
       "      <th>494</th>\n",
       "      <td>9789384147631</td>\n",
       "      <td>GRAMMER &amp; VOCABULARY 4</td>\n",
       "      <td>Mark</td>\n",
       "      <td>BLUE BERRY BOOKS</td>\n",
       "      <td>0</td>\n",
       "    </tr>\n",
       "    <tr>\n",
       "      <th>495</th>\n",
       "      <td>9789384147648</td>\n",
       "      <td>GRAMMER &amp; VOCABULARY 5</td>\n",
       "      <td>Mark</td>\n",
       "      <td>BLUE BERRY BOOKS</td>\n",
       "      <td>0</td>\n",
       "    </tr>\n",
       "    <tr>\n",
       "      <th>496</th>\n",
       "      <td>9789384147655</td>\n",
       "      <td>GRAMMER &amp; VOCABULARY 6</td>\n",
       "      <td>Mark</td>\n",
       "      <td>BLUE BERRY BOOKS</td>\n",
       "      <td>0</td>\n",
       "    </tr>\n",
       "    <tr>\n",
       "      <th>497</th>\n",
       "      <td>9789384147044</td>\n",
       "      <td>ENGLISH OLYMPIAD-5</td>\n",
       "      <td>NILL</td>\n",
       "      <td>BLUE BERRY BOOKS</td>\n",
       "      <td>0</td>\n",
       "    </tr>\n",
       "    <tr>\n",
       "      <th>498</th>\n",
       "      <td>9789384147068</td>\n",
       "      <td>MarkITIK KAHANIYAN 1</td>\n",
       "      <td>Mark</td>\n",
       "      <td>BLUE BERRY BOOKS</td>\n",
       "      <td>0</td>\n",
       "    </tr>\n",
       "  </tbody>\n",
       "</table>\n",
       "<p>499 rows × 5 columns</p>\n",
       "</div>"
      ],
      "text/plain": [
       "     Serial Number               Company Name  Employee Markme  \\\n",
       "0    9788189999599             TALES OF SHIVA             Mark   \n",
       "1    9780099578079  1Q84 THE COMPLETE TRILOGY  HARUKI MURAKAMI   \n",
       "2    9780198082897                   MY KUMAN             Mark   \n",
       "3    9780007880331    THE GOD OF SMAAL THINGS    ARUNDHATI ROY   \n",
       "4    9780545060455           THE BLACK CIRCLE             Mark   \n",
       "..             ...                        ...              ...   \n",
       "494  9789384147631     GRAMMER & VOCABULARY 4             Mark   \n",
       "495  9789384147648     GRAMMER & VOCABULARY 5             Mark   \n",
       "496  9789384147655     GRAMMER & VOCABULARY 6             Mark   \n",
       "497  9789384147044         ENGLISH OLYMPIAD-5             NILL   \n",
       "498  9789384147068       MarkITIK KAHANIYAN 1             Mark   \n",
       "\n",
       "            Description  Leave  \n",
       "0                  mark      0  \n",
       "1                  Mark      0  \n",
       "2                  Mark      0  \n",
       "3    4TH HARPER COLLINS      2  \n",
       "4    4TH HARPER COLLINS      0  \n",
       "..                  ...    ...  \n",
       "494    BLUE BERRY BOOKS      0  \n",
       "495    BLUE BERRY BOOKS      0  \n",
       "496    BLUE BERRY BOOKS      0  \n",
       "497    BLUE BERRY BOOKS      0  \n",
       "498    BLUE BERRY BOOKS      0  \n",
       "\n",
       "[499 rows x 5 columns]"
      ]
     },
     "execution_count": 2,
     "metadata": {},
     "output_type": "execute_result"
    }
   ],
   "source": [
    "data"
   ]
  },
  {
   "cell_type": "code",
   "execution_count": 3,
   "metadata": {},
   "outputs": [
    {
     "data": {
      "text/plain": [
       "Index(['Serial Number', 'Company Name', 'Employee Markme', 'Description',\n",
       "       'Leave'],\n",
       "      dtype='object')"
      ]
     },
     "execution_count": 3,
     "metadata": {},
     "output_type": "execute_result"
    }
   ],
   "source": [
    "data.columns"
   ]
  },
  {
   "cell_type": "code",
   "execution_count": 4,
   "metadata": {},
   "outputs": [
    {
     "data": {
      "text/plain": [
       "[RangeIndex(start=0, stop=499, step=1),\n",
       " Index(['Serial Number', 'Company Name', 'Employee Markme', 'Description',\n",
       "        'Leave'],\n",
       "       dtype='object')]"
      ]
     },
     "execution_count": 4,
     "metadata": {},
     "output_type": "execute_result"
    }
   ],
   "source": [
    "data.axes"
   ]
  },
  {
   "cell_type": "code",
   "execution_count": 5,
   "metadata": {},
   "outputs": [
    {
     "data": {
      "text/plain": [
       "RangeIndex(start=0, stop=499, step=1)"
      ]
     },
     "execution_count": 5,
     "metadata": {},
     "output_type": "execute_result"
    }
   ],
   "source": [
    "data.index"
   ]
  },
  {
   "cell_type": "code",
   "execution_count": 6,
   "metadata": {},
   "outputs": [
    {
     "data": {
      "text/plain": [
       "array([[9788189999599, 'TALES OF SHIVA', 'Mark', 'mark', 0],\n",
       "       [9780099578079, '1Q84 THE COMPLETE TRILOGY', 'HARUKI MURAKAMI',\n",
       "        'Mark', 0],\n",
       "       [9780198082897, 'MY KUMAN', 'Mark', 'Mark', 0],\n",
       "       ...,\n",
       "       [9789384147655, 'GRAMMER & VOCABULARY 6', 'Mark',\n",
       "        'BLUE BERRY BOOKS', 0],\n",
       "       [9789384147044, 'ENGLISH OLYMPIAD-5', 'NILL', 'BLUE BERRY BOOKS',\n",
       "        0],\n",
       "       [9789384147068, 'MarkITIK KAHANIYAN 1', 'Mark',\n",
       "        'BLUE BERRY BOOKS', 0]], dtype=object)"
      ]
     },
     "execution_count": 6,
     "metadata": {},
     "output_type": "execute_result"
    }
   ],
   "source": [
    "data.values"
   ]
  },
  {
   "cell_type": "code",
   "execution_count": 7,
   "metadata": {},
   "outputs": [
    {
     "data": {
      "text/plain": [
       "Serial Number       int64\n",
       "Company Name       object\n",
       "Employee Markme    object\n",
       "Description        object\n",
       "Leave               int64\n",
       "dtype: object"
      ]
     },
     "execution_count": 7,
     "metadata": {},
     "output_type": "execute_result"
    }
   ],
   "source": [
    "data.dtypes"
   ]
  },
  {
   "cell_type": "code",
   "execution_count": 8,
   "metadata": {},
   "outputs": [
    {
     "data": {
      "text/plain": [
       "object    3\n",
       "int64     2\n",
       "dtype: int64"
      ]
     },
     "execution_count": 8,
     "metadata": {},
     "output_type": "execute_result"
    }
   ],
   "source": [
    "data.dtypes.value_counts()"
   ]
  },
  {
   "cell_type": "code",
   "execution_count": 9,
   "metadata": {},
   "outputs": [
    {
     "name": "stdout",
     "output_type": "stream",
     "text": [
      "<class 'pandas.core.frame.DataFrame'>\n",
      "RangeIndex: 499 entries, 0 to 498\n",
      "Data columns (total 5 columns):\n",
      " #   Column           Non-Null Count  Dtype \n",
      "---  ------           --------------  ----- \n",
      " 0   Serial Number    499 non-null    int64 \n",
      " 1   Company Name     499 non-null    object\n",
      " 2   Employee Markme  494 non-null    object\n",
      " 3   Description      499 non-null    object\n",
      " 4   Leave            499 non-null    int64 \n",
      "dtypes: int64(2), object(3)\n",
      "memory usage: 13.7+ KB\n"
     ]
    }
   ],
   "source": [
    "data.info()"
   ]
  },
  {
   "cell_type": "code",
   "execution_count": 10,
   "metadata": {},
   "outputs": [
    {
     "data": {
      "text/html": [
       "<div>\n",
       "<style scoped>\n",
       "    .dataframe tbody tr th:only-of-type {\n",
       "        vertical-align: middle;\n",
       "    }\n",
       "\n",
       "    .dataframe tbody tr th {\n",
       "        vertical-align: top;\n",
       "    }\n",
       "\n",
       "    .dataframe thead th {\n",
       "        text-align: right;\n",
       "    }\n",
       "</style>\n",
       "<table border=\"1\" class=\"dataframe\">\n",
       "  <thead>\n",
       "    <tr style=\"text-align: right;\">\n",
       "      <th></th>\n",
       "      <th>Serial Number</th>\n",
       "      <th>Company Name</th>\n",
       "      <th>Employee Markme</th>\n",
       "      <th>Description</th>\n",
       "      <th>Leave</th>\n",
       "    </tr>\n",
       "  </thead>\n",
       "  <tbody>\n",
       "    <tr>\n",
       "      <th>0</th>\n",
       "      <td>9788189999599</td>\n",
       "      <td>TALES OF SHIVA</td>\n",
       "      <td>Mark</td>\n",
       "      <td>mark</td>\n",
       "      <td>0</td>\n",
       "    </tr>\n",
       "    <tr>\n",
       "      <th>1</th>\n",
       "      <td>9780099578079</td>\n",
       "      <td>1Q84 THE COMPLETE TRILOGY</td>\n",
       "      <td>HARUKI MURAKAMI</td>\n",
       "      <td>Mark</td>\n",
       "      <td>0</td>\n",
       "    </tr>\n",
       "    <tr>\n",
       "      <th>2</th>\n",
       "      <td>9780198082897</td>\n",
       "      <td>MY KUMAN</td>\n",
       "      <td>Mark</td>\n",
       "      <td>Mark</td>\n",
       "      <td>0</td>\n",
       "    </tr>\n",
       "    <tr>\n",
       "      <th>3</th>\n",
       "      <td>9780007880331</td>\n",
       "      <td>THE GOD OF SMAAL THINGS</td>\n",
       "      <td>ARUNDHATI ROY</td>\n",
       "      <td>4TH HARPER COLLINS</td>\n",
       "      <td>2</td>\n",
       "    </tr>\n",
       "    <tr>\n",
       "      <th>4</th>\n",
       "      <td>9780545060455</td>\n",
       "      <td>THE BLACK CIRCLE</td>\n",
       "      <td>Mark</td>\n",
       "      <td>4TH HARPER COLLINS</td>\n",
       "      <td>0</td>\n",
       "    </tr>\n",
       "    <tr>\n",
       "      <th>...</th>\n",
       "      <td>...</td>\n",
       "      <td>...</td>\n",
       "      <td>...</td>\n",
       "      <td>...</td>\n",
       "      <td>...</td>\n",
       "    </tr>\n",
       "    <tr>\n",
       "      <th>494</th>\n",
       "      <td>9789384147631</td>\n",
       "      <td>GRAMMER &amp; VOCABULARY 4</td>\n",
       "      <td>Mark</td>\n",
       "      <td>BLUE BERRY BOOKS</td>\n",
       "      <td>0</td>\n",
       "    </tr>\n",
       "    <tr>\n",
       "      <th>495</th>\n",
       "      <td>9789384147648</td>\n",
       "      <td>GRAMMER &amp; VOCABULARY 5</td>\n",
       "      <td>Mark</td>\n",
       "      <td>BLUE BERRY BOOKS</td>\n",
       "      <td>0</td>\n",
       "    </tr>\n",
       "    <tr>\n",
       "      <th>496</th>\n",
       "      <td>9789384147655</td>\n",
       "      <td>GRAMMER &amp; VOCABULARY 6</td>\n",
       "      <td>Mark</td>\n",
       "      <td>BLUE BERRY BOOKS</td>\n",
       "      <td>0</td>\n",
       "    </tr>\n",
       "    <tr>\n",
       "      <th>497</th>\n",
       "      <td>9789384147044</td>\n",
       "      <td>ENGLISH OLYMPIAD-5</td>\n",
       "      <td>NILL</td>\n",
       "      <td>BLUE BERRY BOOKS</td>\n",
       "      <td>0</td>\n",
       "    </tr>\n",
       "    <tr>\n",
       "      <th>498</th>\n",
       "      <td>9789384147068</td>\n",
       "      <td>MarkITIK KAHANIYAN 1</td>\n",
       "      <td>Mark</td>\n",
       "      <td>BLUE BERRY BOOKS</td>\n",
       "      <td>0</td>\n",
       "    </tr>\n",
       "  </tbody>\n",
       "</table>\n",
       "<p>499 rows × 5 columns</p>\n",
       "</div>"
      ],
      "text/plain": [
       "     Serial Number               Company Name  Employee Markme  \\\n",
       "0    9788189999599             TALES OF SHIVA             Mark   \n",
       "1    9780099578079  1Q84 THE COMPLETE TRILOGY  HARUKI MURAKAMI   \n",
       "2    9780198082897                   MY KUMAN             Mark   \n",
       "3    9780007880331    THE GOD OF SMAAL THINGS    ARUNDHATI ROY   \n",
       "4    9780545060455           THE BLACK CIRCLE             Mark   \n",
       "..             ...                        ...              ...   \n",
       "494  9789384147631     GRAMMER & VOCABULARY 4             Mark   \n",
       "495  9789384147648     GRAMMER & VOCABULARY 5             Mark   \n",
       "496  9789384147655     GRAMMER & VOCABULARY 6             Mark   \n",
       "497  9789384147044         ENGLISH OLYMPIAD-5             NILL   \n",
       "498  9789384147068       MarkITIK KAHANIYAN 1             Mark   \n",
       "\n",
       "            Description  Leave  \n",
       "0                  mark      0  \n",
       "1                  Mark      0  \n",
       "2                  Mark      0  \n",
       "3    4TH HARPER COLLINS      2  \n",
       "4    4TH HARPER COLLINS      0  \n",
       "..                  ...    ...  \n",
       "494    BLUE BERRY BOOKS      0  \n",
       "495    BLUE BERRY BOOKS      0  \n",
       "496    BLUE BERRY BOOKS      0  \n",
       "497    BLUE BERRY BOOKS      0  \n",
       "498    BLUE BERRY BOOKS      0  \n",
       "\n",
       "[499 rows x 5 columns]"
      ]
     },
     "execution_count": 10,
     "metadata": {},
     "output_type": "execute_result"
    }
   ],
   "source": [
    "data"
   ]
  },
  {
   "cell_type": "code",
   "execution_count": 11,
   "metadata": {},
   "outputs": [
    {
     "data": {
      "text/plain": [
       "0      9788189999599\n",
       "1      9780099578079\n",
       "2      9780198082897\n",
       "3      9780007880333\n",
       "4      9780545060455\n",
       "           ...      \n",
       "494    9789384147631\n",
       "495    9789384147648\n",
       "496    9789384147655\n",
       "497    9789384147044\n",
       "498    9789384147068\n",
       "Length: 499, dtype: int64"
      ]
     },
     "execution_count": 11,
     "metadata": {},
     "output_type": "execute_result"
    }
   ],
   "source": [
    "data.sum(axis=\"columns\")"
   ]
  },
  {
   "cell_type": "code",
   "execution_count": 12,
   "metadata": {},
   "outputs": [
    {
     "data": {
      "text/plain": [
       "0      9788189999599\n",
       "1      9780099578079\n",
       "2      9780198082897\n",
       "3      9780007880333\n",
       "4      9780545060455\n",
       "           ...      \n",
       "494    9789384147631\n",
       "495    9789384147648\n",
       "496    9789384147655\n",
       "497    9789384147044\n",
       "498    9789384147068\n",
       "Length: 499, dtype: int64"
      ]
     },
     "execution_count": 12,
     "metadata": {},
     "output_type": "execute_result"
    }
   ],
   "source": [
    "data.sum(axis=1)"
   ]
  },
  {
   "cell_type": "code",
   "execution_count": 13,
   "metadata": {},
   "outputs": [
    {
     "data": {
      "text/plain": [
       "0      0\n",
       "1      0\n",
       "2      0\n",
       "3      2\n",
       "4      0\n",
       "      ..\n",
       "494    0\n",
       "495    0\n",
       "496    0\n",
       "497    0\n",
       "498    0\n",
       "Name: Leave, Length: 499, dtype: int64"
      ]
     },
     "execution_count": 13,
     "metadata": {},
     "output_type": "execute_result"
    }
   ],
   "source": [
    "data['Leave']"
   ]
  },
  {
   "cell_type": "code",
   "execution_count": 14,
   "metadata": {},
   "outputs": [
    {
     "data": {
      "text/plain": [
       "0      0\n",
       "1      0\n",
       "2      0\n",
       "3      2\n",
       "4      0\n",
       "      ..\n",
       "494    0\n",
       "495    0\n",
       "496    0\n",
       "497    0\n",
       "498    0\n",
       "Name: Leave, Length: 499, dtype: int64"
      ]
     },
     "execution_count": 14,
     "metadata": {},
     "output_type": "execute_result"
    }
   ],
   "source": [
    "data.Leave"
   ]
  },
  {
   "cell_type": "code",
   "execution_count": 15,
   "metadata": {},
   "outputs": [],
   "source": [
    "data['Leave']=data['Leave'].add(9)"
   ]
  },
  {
   "cell_type": "code",
   "execution_count": 16,
   "metadata": {},
   "outputs": [
    {
     "data": {
      "text/plain": [
       "0       9\n",
       "1       9\n",
       "2       9\n",
       "3      11\n",
       "4       9\n",
       "       ..\n",
       "494     9\n",
       "495     9\n",
       "496     9\n",
       "497     9\n",
       "498     9\n",
       "Name: Leave, Length: 499, dtype: int64"
      ]
     },
     "execution_count": 16,
     "metadata": {},
     "output_type": "execute_result"
    }
   ],
   "source": [
    "data.Leave"
   ]
  },
  {
   "cell_type": "code",
   "execution_count": 17,
   "metadata": {},
   "outputs": [
    {
     "data": {
      "text/html": [
       "<div>\n",
       "<style scoped>\n",
       "    .dataframe tbody tr th:only-of-type {\n",
       "        vertical-align: middle;\n",
       "    }\n",
       "\n",
       "    .dataframe tbody tr th {\n",
       "        vertical-align: top;\n",
       "    }\n",
       "\n",
       "    .dataframe thead th {\n",
       "        text-align: right;\n",
       "    }\n",
       "</style>\n",
       "<table border=\"1\" class=\"dataframe\">\n",
       "  <thead>\n",
       "    <tr style=\"text-align: right;\">\n",
       "      <th></th>\n",
       "      <th>Serial Number</th>\n",
       "      <th>Leave</th>\n",
       "    </tr>\n",
       "  </thead>\n",
       "  <tbody>\n",
       "    <tr>\n",
       "      <th>0</th>\n",
       "      <td>9788189999599</td>\n",
       "      <td>9</td>\n",
       "    </tr>\n",
       "    <tr>\n",
       "      <th>1</th>\n",
       "      <td>9780099578079</td>\n",
       "      <td>9</td>\n",
       "    </tr>\n",
       "    <tr>\n",
       "      <th>2</th>\n",
       "      <td>9780198082897</td>\n",
       "      <td>9</td>\n",
       "    </tr>\n",
       "    <tr>\n",
       "      <th>3</th>\n",
       "      <td>9780007880331</td>\n",
       "      <td>11</td>\n",
       "    </tr>\n",
       "    <tr>\n",
       "      <th>4</th>\n",
       "      <td>9780545060455</td>\n",
       "      <td>9</td>\n",
       "    </tr>\n",
       "    <tr>\n",
       "      <th>...</th>\n",
       "      <td>...</td>\n",
       "      <td>...</td>\n",
       "    </tr>\n",
       "    <tr>\n",
       "      <th>494</th>\n",
       "      <td>9789384147631</td>\n",
       "      <td>9</td>\n",
       "    </tr>\n",
       "    <tr>\n",
       "      <th>495</th>\n",
       "      <td>9789384147648</td>\n",
       "      <td>9</td>\n",
       "    </tr>\n",
       "    <tr>\n",
       "      <th>496</th>\n",
       "      <td>9789384147655</td>\n",
       "      <td>9</td>\n",
       "    </tr>\n",
       "    <tr>\n",
       "      <th>497</th>\n",
       "      <td>9789384147044</td>\n",
       "      <td>9</td>\n",
       "    </tr>\n",
       "    <tr>\n",
       "      <th>498</th>\n",
       "      <td>9789384147068</td>\n",
       "      <td>9</td>\n",
       "    </tr>\n",
       "  </tbody>\n",
       "</table>\n",
       "<p>499 rows × 2 columns</p>\n",
       "</div>"
      ],
      "text/plain": [
       "     Serial Number  Leave\n",
       "0    9788189999599      9\n",
       "1    9780099578079      9\n",
       "2    9780198082897      9\n",
       "3    9780007880331     11\n",
       "4    9780545060455      9\n",
       "..             ...    ...\n",
       "494  9789384147631      9\n",
       "495  9789384147648      9\n",
       "496  9789384147655      9\n",
       "497  9789384147044      9\n",
       "498  9789384147068      9\n",
       "\n",
       "[499 rows x 2 columns]"
      ]
     },
     "execution_count": 17,
     "metadata": {},
     "output_type": "execute_result"
    }
   ],
   "source": [
    "data[['Serial Number','Leave']]"
   ]
  },
  {
   "cell_type": "code",
   "execution_count": 18,
   "metadata": {},
   "outputs": [
    {
     "data": {
      "text/html": [
       "<div>\n",
       "<style scoped>\n",
       "    .dataframe tbody tr th:only-of-type {\n",
       "        vertical-align: middle;\n",
       "    }\n",
       "\n",
       "    .dataframe tbody tr th {\n",
       "        vertical-align: top;\n",
       "    }\n",
       "\n",
       "    .dataframe thead th {\n",
       "        text-align: right;\n",
       "    }\n",
       "</style>\n",
       "<table border=\"1\" class=\"dataframe\">\n",
       "  <thead>\n",
       "    <tr style=\"text-align: right;\">\n",
       "      <th></th>\n",
       "      <th>Serial Number</th>\n",
       "    </tr>\n",
       "  </thead>\n",
       "  <tbody>\n",
       "    <tr>\n",
       "      <th>0</th>\n",
       "      <td>9788189999599</td>\n",
       "    </tr>\n",
       "    <tr>\n",
       "      <th>1</th>\n",
       "      <td>9780099578079</td>\n",
       "    </tr>\n",
       "    <tr>\n",
       "      <th>2</th>\n",
       "      <td>9780198082897</td>\n",
       "    </tr>\n",
       "    <tr>\n",
       "      <th>3</th>\n",
       "      <td>9780007880331</td>\n",
       "    </tr>\n",
       "    <tr>\n",
       "      <th>4</th>\n",
       "      <td>9780545060455</td>\n",
       "    </tr>\n",
       "    <tr>\n",
       "      <th>...</th>\n",
       "      <td>...</td>\n",
       "    </tr>\n",
       "    <tr>\n",
       "      <th>494</th>\n",
       "      <td>9789384147631</td>\n",
       "    </tr>\n",
       "    <tr>\n",
       "      <th>495</th>\n",
       "      <td>9789384147648</td>\n",
       "    </tr>\n",
       "    <tr>\n",
       "      <th>496</th>\n",
       "      <td>9789384147655</td>\n",
       "    </tr>\n",
       "    <tr>\n",
       "      <th>497</th>\n",
       "      <td>9789384147044</td>\n",
       "    </tr>\n",
       "    <tr>\n",
       "      <th>498</th>\n",
       "      <td>9789384147068</td>\n",
       "    </tr>\n",
       "  </tbody>\n",
       "</table>\n",
       "<p>499 rows × 1 columns</p>\n",
       "</div>"
      ],
      "text/plain": [
       "     Serial Number\n",
       "0    9788189999599\n",
       "1    9780099578079\n",
       "2    9780198082897\n",
       "3    9780007880331\n",
       "4    9780545060455\n",
       "..             ...\n",
       "494  9789384147631\n",
       "495  9789384147648\n",
       "496  9789384147655\n",
       "497  9789384147044\n",
       "498  9789384147068\n",
       "\n",
       "[499 rows x 1 columns]"
      ]
     },
     "execution_count": 18,
     "metadata": {},
     "output_type": "execute_result"
    }
   ],
   "source": [
    "pd.read_csv('sample.csv',usecols=['Serial Number'],squeeze=False)"
   ]
  },
  {
   "cell_type": "code",
   "execution_count": 21,
   "metadata": {},
   "outputs": [],
   "source": [
    "new=[10,20,30,40,52,41,112,5]"
   ]
  },
  {
   "cell_type": "code",
   "execution_count": 23,
   "metadata": {},
   "outputs": [],
   "source": [
    "data['No_Of_days']=3"
   ]
  },
  {
   "cell_type": "code",
   "execution_count": null,
   "metadata": {},
   "outputs": [],
   "source": [
    "data"
   ]
  },
  {
   "cell_type": "code",
   "execution_count": 25,
   "metadata": {},
   "outputs": [],
   "source": [
    "data.insert(3,'First_name','prasad')"
   ]
  },
  {
   "cell_type": "code",
   "execution_count": 26,
   "metadata": {},
   "outputs": [
    {
     "data": {
      "text/html": [
       "<div>\n",
       "<style scoped>\n",
       "    .dataframe tbody tr th:only-of-type {\n",
       "        vertical-align: middle;\n",
       "    }\n",
       "\n",
       "    .dataframe tbody tr th {\n",
       "        vertical-align: top;\n",
       "    }\n",
       "\n",
       "    .dataframe thead th {\n",
       "        text-align: right;\n",
       "    }\n",
       "</style>\n",
       "<table border=\"1\" class=\"dataframe\">\n",
       "  <thead>\n",
       "    <tr style=\"text-align: right;\">\n",
       "      <th></th>\n",
       "      <th>Serial Number</th>\n",
       "      <th>Company Name</th>\n",
       "      <th>Employee Markme</th>\n",
       "      <th>First_name</th>\n",
       "      <th>Description</th>\n",
       "      <th>Leave</th>\n",
       "      <th>No_Of_days</th>\n",
       "    </tr>\n",
       "  </thead>\n",
       "  <tbody>\n",
       "    <tr>\n",
       "      <th>0</th>\n",
       "      <td>9788189999599</td>\n",
       "      <td>TALES OF SHIVA</td>\n",
       "      <td>Mark</td>\n",
       "      <td>prasad</td>\n",
       "      <td>mark</td>\n",
       "      <td>9</td>\n",
       "      <td>3</td>\n",
       "    </tr>\n",
       "    <tr>\n",
       "      <th>1</th>\n",
       "      <td>9780099578079</td>\n",
       "      <td>1Q84 THE COMPLETE TRILOGY</td>\n",
       "      <td>HARUKI MURAKAMI</td>\n",
       "      <td>prasad</td>\n",
       "      <td>Mark</td>\n",
       "      <td>9</td>\n",
       "      <td>3</td>\n",
       "    </tr>\n",
       "    <tr>\n",
       "      <th>2</th>\n",
       "      <td>9780198082897</td>\n",
       "      <td>MY KUMAN</td>\n",
       "      <td>Mark</td>\n",
       "      <td>prasad</td>\n",
       "      <td>Mark</td>\n",
       "      <td>9</td>\n",
       "      <td>3</td>\n",
       "    </tr>\n",
       "    <tr>\n",
       "      <th>3</th>\n",
       "      <td>9780007880331</td>\n",
       "      <td>THE GOD OF SMAAL THINGS</td>\n",
       "      <td>ARUNDHATI ROY</td>\n",
       "      <td>prasad</td>\n",
       "      <td>4TH HARPER COLLINS</td>\n",
       "      <td>11</td>\n",
       "      <td>3</td>\n",
       "    </tr>\n",
       "    <tr>\n",
       "      <th>4</th>\n",
       "      <td>9780545060455</td>\n",
       "      <td>THE BLACK CIRCLE</td>\n",
       "      <td>Mark</td>\n",
       "      <td>prasad</td>\n",
       "      <td>4TH HARPER COLLINS</td>\n",
       "      <td>9</td>\n",
       "      <td>3</td>\n",
       "    </tr>\n",
       "    <tr>\n",
       "      <th>...</th>\n",
       "      <td>...</td>\n",
       "      <td>...</td>\n",
       "      <td>...</td>\n",
       "      <td>...</td>\n",
       "      <td>...</td>\n",
       "      <td>...</td>\n",
       "      <td>...</td>\n",
       "    </tr>\n",
       "    <tr>\n",
       "      <th>494</th>\n",
       "      <td>9789384147631</td>\n",
       "      <td>GRAMMER &amp; VOCABULARY 4</td>\n",
       "      <td>Mark</td>\n",
       "      <td>prasad</td>\n",
       "      <td>BLUE BERRY BOOKS</td>\n",
       "      <td>9</td>\n",
       "      <td>3</td>\n",
       "    </tr>\n",
       "    <tr>\n",
       "      <th>495</th>\n",
       "      <td>9789384147648</td>\n",
       "      <td>GRAMMER &amp; VOCABULARY 5</td>\n",
       "      <td>Mark</td>\n",
       "      <td>prasad</td>\n",
       "      <td>BLUE BERRY BOOKS</td>\n",
       "      <td>9</td>\n",
       "      <td>3</td>\n",
       "    </tr>\n",
       "    <tr>\n",
       "      <th>496</th>\n",
       "      <td>9789384147655</td>\n",
       "      <td>GRAMMER &amp; VOCABULARY 6</td>\n",
       "      <td>Mark</td>\n",
       "      <td>prasad</td>\n",
       "      <td>BLUE BERRY BOOKS</td>\n",
       "      <td>9</td>\n",
       "      <td>3</td>\n",
       "    </tr>\n",
       "    <tr>\n",
       "      <th>497</th>\n",
       "      <td>9789384147044</td>\n",
       "      <td>ENGLISH OLYMPIAD-5</td>\n",
       "      <td>NILL</td>\n",
       "      <td>prasad</td>\n",
       "      <td>BLUE BERRY BOOKS</td>\n",
       "      <td>9</td>\n",
       "      <td>3</td>\n",
       "    </tr>\n",
       "    <tr>\n",
       "      <th>498</th>\n",
       "      <td>9789384147068</td>\n",
       "      <td>MarkITIK KAHANIYAN 1</td>\n",
       "      <td>Mark</td>\n",
       "      <td>prasad</td>\n",
       "      <td>BLUE BERRY BOOKS</td>\n",
       "      <td>9</td>\n",
       "      <td>3</td>\n",
       "    </tr>\n",
       "  </tbody>\n",
       "</table>\n",
       "<p>499 rows × 7 columns</p>\n",
       "</div>"
      ],
      "text/plain": [
       "     Serial Number               Company Name  Employee Markme First_name  \\\n",
       "0    9788189999599             TALES OF SHIVA             Mark     prasad   \n",
       "1    9780099578079  1Q84 THE COMPLETE TRILOGY  HARUKI MURAKAMI     prasad   \n",
       "2    9780198082897                   MY KUMAN             Mark     prasad   \n",
       "3    9780007880331    THE GOD OF SMAAL THINGS    ARUNDHATI ROY     prasad   \n",
       "4    9780545060455           THE BLACK CIRCLE             Mark     prasad   \n",
       "..             ...                        ...              ...        ...   \n",
       "494  9789384147631     GRAMMER & VOCABULARY 4             Mark     prasad   \n",
       "495  9789384147648     GRAMMER & VOCABULARY 5             Mark     prasad   \n",
       "496  9789384147655     GRAMMER & VOCABULARY 6             Mark     prasad   \n",
       "497  9789384147044         ENGLISH OLYMPIAD-5             NILL     prasad   \n",
       "498  9789384147068       MarkITIK KAHANIYAN 1             Mark     prasad   \n",
       "\n",
       "            Description  Leave  No_Of_days  \n",
       "0                  mark      9           3  \n",
       "1                  Mark      9           3  \n",
       "2                  Mark      9           3  \n",
       "3    4TH HARPER COLLINS     11           3  \n",
       "4    4TH HARPER COLLINS      9           3  \n",
       "..                  ...    ...         ...  \n",
       "494    BLUE BERRY BOOKS      9           3  \n",
       "495    BLUE BERRY BOOKS      9           3  \n",
       "496    BLUE BERRY BOOKS      9           3  \n",
       "497    BLUE BERRY BOOKS      9           3  \n",
       "498    BLUE BERRY BOOKS      9           3  \n",
       "\n",
       "[499 rows x 7 columns]"
      ]
     },
     "execution_count": 26,
     "metadata": {},
     "output_type": "execute_result"
    }
   ],
   "source": [
    "data"
   ]
  },
  {
   "cell_type": "code",
   "execution_count": null,
   "metadata": {},
   "outputs": [],
   "source": [
    "data.value_counts()"
   ]
  },
  {
   "cell_type": "code",
   "execution_count": null,
   "metadata": {},
   "outputs": [],
   "source": [
    "data.dropna()"
   ]
  },
  {
   "cell_type": "code",
   "execution_count": null,
   "metadata": {},
   "outputs": [],
   "source": [
    "data.dropna(how='all')"
   ]
  },
  {
   "cell_type": "code",
   "execution_count": null,
   "metadata": {},
   "outputs": [],
   "source": [
    "data.dropna(axis='columns')"
   ]
  },
  {
   "cell_type": "code",
   "execution_count": 29,
   "metadata": {
    "collapsed": true
   },
   "outputs": [
    {
     "data": {
      "text/html": [
       "<div>\n",
       "<style scoped>\n",
       "    .dataframe tbody tr th:only-of-type {\n",
       "        vertical-align: middle;\n",
       "    }\n",
       "\n",
       "    .dataframe tbody tr th {\n",
       "        vertical-align: top;\n",
       "    }\n",
       "\n",
       "    .dataframe thead th {\n",
       "        text-align: right;\n",
       "    }\n",
       "</style>\n",
       "<table border=\"1\" class=\"dataframe\">\n",
       "  <thead>\n",
       "    <tr style=\"text-align: right;\">\n",
       "      <th></th>\n",
       "      <th>Serial Number</th>\n",
       "      <th>Company Name</th>\n",
       "      <th>First_name</th>\n",
       "      <th>Description</th>\n",
       "      <th>Leave</th>\n",
       "      <th>No_Of_days</th>\n",
       "    </tr>\n",
       "  </thead>\n",
       "  <tbody>\n",
       "    <tr>\n",
       "      <th>0</th>\n",
       "      <td>9788189999599</td>\n",
       "      <td>TALES OF SHIVA</td>\n",
       "      <td>prasad</td>\n",
       "      <td>mark</td>\n",
       "      <td>9</td>\n",
       "      <td>3</td>\n",
       "    </tr>\n",
       "    <tr>\n",
       "      <th>1</th>\n",
       "      <td>9780099578079</td>\n",
       "      <td>1Q84 THE COMPLETE TRILOGY</td>\n",
       "      <td>prasad</td>\n",
       "      <td>Mark</td>\n",
       "      <td>9</td>\n",
       "      <td>3</td>\n",
       "    </tr>\n",
       "    <tr>\n",
       "      <th>2</th>\n",
       "      <td>9780198082897</td>\n",
       "      <td>MY KUMAN</td>\n",
       "      <td>prasad</td>\n",
       "      <td>Mark</td>\n",
       "      <td>9</td>\n",
       "      <td>3</td>\n",
       "    </tr>\n",
       "    <tr>\n",
       "      <th>3</th>\n",
       "      <td>9780007880331</td>\n",
       "      <td>THE GOD OF SMAAL THINGS</td>\n",
       "      <td>prasad</td>\n",
       "      <td>4TH HARPER COLLINS</td>\n",
       "      <td>11</td>\n",
       "      <td>3</td>\n",
       "    </tr>\n",
       "    <tr>\n",
       "      <th>4</th>\n",
       "      <td>9780545060455</td>\n",
       "      <td>THE BLACK CIRCLE</td>\n",
       "      <td>prasad</td>\n",
       "      <td>4TH HARPER COLLINS</td>\n",
       "      <td>9</td>\n",
       "      <td>3</td>\n",
       "    </tr>\n",
       "    <tr>\n",
       "      <th>...</th>\n",
       "      <td>...</td>\n",
       "      <td>...</td>\n",
       "      <td>...</td>\n",
       "      <td>...</td>\n",
       "      <td>...</td>\n",
       "      <td>...</td>\n",
       "    </tr>\n",
       "    <tr>\n",
       "      <th>494</th>\n",
       "      <td>9789384147631</td>\n",
       "      <td>GRAMMER &amp; VOCABULARY 4</td>\n",
       "      <td>prasad</td>\n",
       "      <td>BLUE BERRY BOOKS</td>\n",
       "      <td>9</td>\n",
       "      <td>3</td>\n",
       "    </tr>\n",
       "    <tr>\n",
       "      <th>495</th>\n",
       "      <td>9789384147648</td>\n",
       "      <td>GRAMMER &amp; VOCABULARY 5</td>\n",
       "      <td>prasad</td>\n",
       "      <td>BLUE BERRY BOOKS</td>\n",
       "      <td>9</td>\n",
       "      <td>3</td>\n",
       "    </tr>\n",
       "    <tr>\n",
       "      <th>496</th>\n",
       "      <td>9789384147655</td>\n",
       "      <td>GRAMMER &amp; VOCABULARY 6</td>\n",
       "      <td>prasad</td>\n",
       "      <td>BLUE BERRY BOOKS</td>\n",
       "      <td>9</td>\n",
       "      <td>3</td>\n",
       "    </tr>\n",
       "    <tr>\n",
       "      <th>497</th>\n",
       "      <td>9789384147044</td>\n",
       "      <td>ENGLISH OLYMPIAD-5</td>\n",
       "      <td>prasad</td>\n",
       "      <td>BLUE BERRY BOOKS</td>\n",
       "      <td>9</td>\n",
       "      <td>3</td>\n",
       "    </tr>\n",
       "    <tr>\n",
       "      <th>498</th>\n",
       "      <td>9789384147068</td>\n",
       "      <td>MarkITIK KAHANIYAN 1</td>\n",
       "      <td>prasad</td>\n",
       "      <td>BLUE BERRY BOOKS</td>\n",
       "      <td>9</td>\n",
       "      <td>3</td>\n",
       "    </tr>\n",
       "  </tbody>\n",
       "</table>\n",
       "<p>499 rows × 6 columns</p>\n",
       "</div>"
      ],
      "text/plain": [
       "     Serial Number               Company Name First_name         Description  \\\n",
       "0    9788189999599             TALES OF SHIVA     prasad                mark   \n",
       "1    9780099578079  1Q84 THE COMPLETE TRILOGY     prasad                Mark   \n",
       "2    9780198082897                   MY KUMAN     prasad                Mark   \n",
       "3    9780007880331    THE GOD OF SMAAL THINGS     prasad  4TH HARPER COLLINS   \n",
       "4    9780545060455           THE BLACK CIRCLE     prasad  4TH HARPER COLLINS   \n",
       "..             ...                        ...        ...                 ...   \n",
       "494  9789384147631     GRAMMER & VOCABULARY 4     prasad    BLUE BERRY BOOKS   \n",
       "495  9789384147648     GRAMMER & VOCABULARY 5     prasad    BLUE BERRY BOOKS   \n",
       "496  9789384147655     GRAMMER & VOCABULARY 6     prasad    BLUE BERRY BOOKS   \n",
       "497  9789384147044         ENGLISH OLYMPIAD-5     prasad    BLUE BERRY BOOKS   \n",
       "498  9789384147068       MarkITIK KAHANIYAN 1     prasad    BLUE BERRY BOOKS   \n",
       "\n",
       "     Leave  No_Of_days  \n",
       "0        9           3  \n",
       "1        9           3  \n",
       "2        9           3  \n",
       "3       11           3  \n",
       "4        9           3  \n",
       "..     ...         ...  \n",
       "494      9           3  \n",
       "495      9           3  \n",
       "496      9           3  \n",
       "497      9           3  \n",
       "498      9           3  \n",
       "\n",
       "[499 rows x 6 columns]"
      ]
     },
     "execution_count": 29,
     "metadata": {},
     "output_type": "execute_result"
    }
   ],
   "source": [
    "data.dropna(1)"
   ]
  },
  {
   "cell_type": "code",
   "execution_count": 35,
   "metadata": {},
   "outputs": [
    {
     "data": {
      "text/html": [
       "<div>\n",
       "<style scoped>\n",
       "    .dataframe tbody tr th:only-of-type {\n",
       "        vertical-align: middle;\n",
       "    }\n",
       "\n",
       "    .dataframe tbody tr th {\n",
       "        vertical-align: top;\n",
       "    }\n",
       "\n",
       "    .dataframe thead th {\n",
       "        text-align: right;\n",
       "    }\n",
       "</style>\n",
       "<table border=\"1\" class=\"dataframe\">\n",
       "  <thead>\n",
       "    <tr style=\"text-align: right;\">\n",
       "      <th></th>\n",
       "      <th>Serial Number</th>\n",
       "      <th>Company Name</th>\n",
       "      <th>Employee Markme</th>\n",
       "      <th>Description</th>\n",
       "      <th>Leave</th>\n",
       "    </tr>\n",
       "  </thead>\n",
       "  <tbody>\n",
       "    <tr>\n",
       "      <th>489</th>\n",
       "      <td>9788188168057</td>\n",
       "      <td>MORAL STORIES (3)</td>\n",
       "      <td>.</td>\n",
       "      <td>BLUE BERRY BOOKS</td>\n",
       "      <td>2</td>\n",
       "    </tr>\n",
       "    <tr>\n",
       "      <th>490</th>\n",
       "      <td>9788190514286</td>\n",
       "      <td>MANTRA GYAN</td>\n",
       "      <td>\"Che\" Guevara</td>\n",
       "      <td>BLUE BERRY BOOKS</td>\n",
       "      <td>0</td>\n",
       "    </tr>\n",
       "    <tr>\n",
       "      <th>491</th>\n",
       "      <td>9789380848914</td>\n",
       "      <td>MATH OLYMPIAD 5</td>\n",
       "      <td>Mark</td>\n",
       "      <td>BLUE BERRY BOOKS</td>\n",
       "      <td>0</td>\n",
       "    </tr>\n",
       "    <tr>\n",
       "      <th>492</th>\n",
       "      <td>9789384147617</td>\n",
       "      <td>GRAMMER &amp; VOCABULARY 2</td>\n",
       "      <td>Mark</td>\n",
       "      <td>BLUE BERRY BOOKS</td>\n",
       "      <td>0</td>\n",
       "    </tr>\n",
       "    <tr>\n",
       "      <th>493</th>\n",
       "      <td>9789384147624</td>\n",
       "      <td>GRAMMAR &amp; VOCABULARY 3</td>\n",
       "      <td>Mark</td>\n",
       "      <td>BLUE BERRY BOOKS</td>\n",
       "      <td>0</td>\n",
       "    </tr>\n",
       "    <tr>\n",
       "      <th>494</th>\n",
       "      <td>9789384147631</td>\n",
       "      <td>GRAMMER &amp; VOCABULARY 4</td>\n",
       "      <td>Mark</td>\n",
       "      <td>BLUE BERRY BOOKS</td>\n",
       "      <td>0</td>\n",
       "    </tr>\n",
       "    <tr>\n",
       "      <th>495</th>\n",
       "      <td>9789384147648</td>\n",
       "      <td>GRAMMER &amp; VOCABULARY 5</td>\n",
       "      <td>Mark</td>\n",
       "      <td>BLUE BERRY BOOKS</td>\n",
       "      <td>0</td>\n",
       "    </tr>\n",
       "    <tr>\n",
       "      <th>496</th>\n",
       "      <td>9789384147655</td>\n",
       "      <td>GRAMMER &amp; VOCABULARY 6</td>\n",
       "      <td>Mark</td>\n",
       "      <td>BLUE BERRY BOOKS</td>\n",
       "      <td>0</td>\n",
       "    </tr>\n",
       "    <tr>\n",
       "      <th>497</th>\n",
       "      <td>9789384147044</td>\n",
       "      <td>ENGLISH OLYMPIAD-5</td>\n",
       "      <td>NILL</td>\n",
       "      <td>BLUE BERRY BOOKS</td>\n",
       "      <td>0</td>\n",
       "    </tr>\n",
       "    <tr>\n",
       "      <th>498</th>\n",
       "      <td>9789384147068</td>\n",
       "      <td>MarkITIK KAHANIYAN 1</td>\n",
       "      <td>Mark</td>\n",
       "      <td>BLUE BERRY BOOKS</td>\n",
       "      <td>0</td>\n",
       "    </tr>\n",
       "  </tbody>\n",
       "</table>\n",
       "</div>"
      ],
      "text/plain": [
       "     Serial Number            Company Name Employee Markme       Description  \\\n",
       "489  9788188168057       MORAL STORIES (3)               .  BLUE BERRY BOOKS   \n",
       "490  9788190514286             MANTRA GYAN   \"Che\" Guevara  BLUE BERRY BOOKS   \n",
       "491  9789380848914         MATH OLYMPIAD 5            Mark  BLUE BERRY BOOKS   \n",
       "492  9789384147617  GRAMMER & VOCABULARY 2            Mark  BLUE BERRY BOOKS   \n",
       "493  9789384147624  GRAMMAR & VOCABULARY 3            Mark  BLUE BERRY BOOKS   \n",
       "494  9789384147631  GRAMMER & VOCABULARY 4            Mark  BLUE BERRY BOOKS   \n",
       "495  9789384147648  GRAMMER & VOCABULARY 5            Mark  BLUE BERRY BOOKS   \n",
       "496  9789384147655  GRAMMER & VOCABULARY 6            Mark  BLUE BERRY BOOKS   \n",
       "497  9789384147044      ENGLISH OLYMPIAD-5            NILL  BLUE BERRY BOOKS   \n",
       "498  9789384147068    MarkITIK KAHANIYAN 1            Mark  BLUE BERRY BOOKS   \n",
       "\n",
       "     Leave  \n",
       "489      2  \n",
       "490      0  \n",
       "491      0  \n",
       "492      0  \n",
       "493      0  \n",
       "494      0  \n",
       "495      0  \n",
       "496      0  \n",
       "497      0  \n",
       "498      0  "
      ]
     },
     "execution_count": 35,
     "metadata": {},
     "output_type": "execute_result"
    }
   ],
   "source": [
    "data.dropna(subset=['Employee Markme','Leave']).tail(10)"
   ]
  },
  {
   "cell_type": "code",
   "execution_count": null,
   "metadata": {},
   "outputs": [],
   "source": [
    "data"
   ]
  },
  {
   "cell_type": "code",
   "execution_count": null,
   "metadata": {},
   "outputs": [],
   "source": [
    "data.fillna(0)"
   ]
  },
  {
   "cell_type": "code",
   "execution_count": null,
   "metadata": {},
   "outputs": [],
   "source": [
    "data.dtypes.value_counts()"
   ]
  },
  {
   "cell_type": "code",
   "execution_count": null,
   "metadata": {},
   "outputs": [],
   "source": [
    "data.dtypes"
   ]
  },
  {
   "cell_type": "code",
   "execution_count": null,
   "metadata": {},
   "outputs": [],
   "source": [
    "data['Serial Number']=data['Serial Number'].astype('float')"
   ]
  },
  {
   "cell_type": "code",
   "execution_count": null,
   "metadata": {},
   "outputs": [],
   "source": [
    "data"
   ]
  },
  {
   "cell_type": "code",
   "execution_count": null,
   "metadata": {},
   "outputs": [],
   "source": [
    "data.dtypes"
   ]
  },
  {
   "cell_type": "code",
   "execution_count": null,
   "metadata": {},
   "outputs": [],
   "source": [
    "data.info()"
   ]
  },
  {
   "cell_type": "code",
   "execution_count": null,
   "metadata": {},
   "outputs": [],
   "source": [
    "data['Serial Number']=data['Serial Number'].astype('int')"
   ]
  },
  {
   "cell_type": "code",
   "execution_count": null,
   "metadata": {},
   "outputs": [],
   "source": [
    "data.dtypes"
   ]
  },
  {
   "cell_type": "code",
   "execution_count": null,
   "metadata": {},
   "outputs": [],
   "source": [
    "data.info()"
   ]
  },
  {
   "cell_type": "code",
   "execution_count": null,
   "metadata": {},
   "outputs": [],
   "source": [
    "data['Leave'].nunique()"
   ]
  },
  {
   "cell_type": "code",
   "execution_count": null,
   "metadata": {},
   "outputs": [],
   "source": [
    "data['No_Of_days'].nunique()"
   ]
  },
  {
   "cell_type": "code",
   "execution_count": 36,
   "metadata": {},
   "outputs": [],
   "source": [
    "data['Leave']=data['Leave'].astype('category')"
   ]
  },
  {
   "cell_type": "code",
   "execution_count": 37,
   "metadata": {},
   "outputs": [
    {
     "data": {
      "text/plain": [
       "Serial Number         int64\n",
       "Company Name         object\n",
       "Employee Markme      object\n",
       "Description          object\n",
       "Leave              category\n",
       "dtype: object"
      ]
     },
     "execution_count": 37,
     "metadata": {},
     "output_type": "execute_result"
    }
   ],
   "source": [
    "data.dtypes"
   ]
  },
  {
   "cell_type": "code",
   "execution_count": null,
   "metadata": {},
   "outputs": [],
   "source": [
    "data['No_Of_days']=data['No_Of_days'].astype('category')"
   ]
  },
  {
   "cell_type": "code",
   "execution_count": null,
   "metadata": {},
   "outputs": [],
   "source": [
    "data.info()"
   ]
  },
  {
   "cell_type": "code",
   "execution_count": null,
   "metadata": {},
   "outputs": [],
   "source": [
    "data"
   ]
  },
  {
   "cell_type": "code",
   "execution_count": null,
   "metadata": {},
   "outputs": [],
   "source": [
    "data.sort_values('Company Name')"
   ]
  }
 ],
 "metadata": {
  "kernelspec": {
   "display_name": "Python 3",
   "language": "python",
   "name": "python3"
  },
  "language_info": {
   "codemirror_mode": {
    "name": "ipython",
    "version": 3
   },
   "file_extension": ".py",
   "mimetype": "text/x-python",
   "name": "python",
   "nbconvert_exporter": "python",
   "pygments_lexer": "ipython3",
   "version": "3.8.5"
  }
 },
 "nbformat": 4,
 "nbformat_minor": 4
}
